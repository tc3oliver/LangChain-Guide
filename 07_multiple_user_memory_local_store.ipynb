{
  "nbformat": 4,
  "nbformat_minor": 0,
  "metadata": {
    "colab": {
      "provenance": [],
      "authorship_tag": "ABX9TyPDa1Cd+Z7BXTUKrHaEWBml",
      "include_colab_link": true
    },
    "kernelspec": {
      "name": "python3",
      "display_name": "Python 3"
    },
    "language_info": {
      "name": "python"
    }
  },
  "cells": [
    {
      "cell_type": "markdown",
      "metadata": {
        "id": "view-in-github",
        "colab_type": "text"
      },
      "source": [
        "<a href=\"https://colab.research.google.com/github/tc3oliver/LangChain-Guide/blob/dev/07_multiple_user_memory_local_store.ipynb\" target=\"_parent\"><img src=\"https://colab.research.google.com/assets/colab-badge.svg\" alt=\"Open In Colab\"/></a>"
      ]
    },
    {
      "cell_type": "code",
      "source": [
        "!wget https://s3-us-west-2.amazonaws.com/dynamodb-local/dynamodb_local_latest.tar.gz\n",
        "!tar -zxvf dynamodb_local_latest.tar.gz"
      ],
      "metadata": {
        "colab": {
          "base_uri": "https://localhost:8080/"
        },
        "id": "jvoRxqZ0ko03",
        "outputId": "1bfadfa5-5fad-4714-b480-687b500f6a97"
      },
      "execution_count": 1,
      "outputs": [
        {
          "output_type": "stream",
          "name": "stdout",
          "text": [
            "--2023-08-03 01:11:14--  https://s3-us-west-2.amazonaws.com/dynamodb-local/dynamodb_local_latest.tar.gz\n",
            "Resolving s3-us-west-2.amazonaws.com (s3-us-west-2.amazonaws.com)... 52.92.250.232, 52.92.153.224, 52.92.210.0, ...\n",
            "Connecting to s3-us-west-2.amazonaws.com (s3-us-west-2.amazonaws.com)|52.92.250.232|:443... connected.\n",
            "HTTP request sent, awaiting response... 200 OK\n",
            "Length: 44278951 (42M) [application/x-tar]\n",
            "Saving to: ‘dynamodb_local_latest.tar.gz’\n",
            "\n",
            "dynamodb_local_late 100%[===================>]  42.23M  14.2MB/s    in 3.0s    \n",
            "\n",
            "2023-08-03 01:11:18 (14.2 MB/s) - ‘dynamodb_local_latest.tar.gz’ saved [44278951/44278951]\n",
            "\n",
            "DynamoDBLocal_lib/\n",
            "DynamoDBLocal.jar\n",
            "DynamoDBLocal_lib/Apache-HttpComponents-HttpClient-4.5.x.jar\n",
            "DynamoDBLocal_lib/Apache-HttpComponents-HttpCore-4.4.x.jar\n",
            "DynamoDBLocal_lib/AwsFlowJava-1.0.jar\n",
            "DynamoDBLocal_lib/AwsJavaSdk-Core-2.0.jar\n",
            "DynamoDBLocal_lib/AwsJavaSdk-Core-Annotations-2.0.jar\n",
            "DynamoDBLocal_lib/AwsJavaSdk-Core-Auth-2.0.jar\n",
            "DynamoDBLocal_lib/AwsJavaSdk-Core-AwsCore-2.0.jar\n",
            "DynamoDBLocal_lib/AwsJavaSdk-Core-AwsJsonProtocol-2.0.jar\n",
            "DynamoDBLocal_lib/AwsJavaSdk-Core-EndpointsSpi-2.0.jar\n",
            "DynamoDBLocal_lib/AwsJavaSdk-Core-JsonUtils-2.0.jar\n",
            "DynamoDBLocal_lib/AwsJavaSdk-Core-MetricsSpi-2.0.jar\n",
            "DynamoDBLocal_lib/AwsJavaSdk-Core-Profiles-2.0.jar\n",
            "DynamoDBLocal_lib/AwsJavaSdk-Core-ProtocolCore-2.0.jar\n",
            "DynamoDBLocal_lib/AwsJavaSdk-Core-Regions-2.0.jar\n",
            "DynamoDBLocal_lib/AwsJavaSdk-Core-Utils-2.0.jar\n",
            "DynamoDBLocal_lib/AwsJavaSdk-DynamoDb-2.0.jar\n",
            "DynamoDBLocal_lib/AwsJavaSdk-DynamoDb-Enhanced-2.0.jar\n",
            "DynamoDBLocal_lib/AwsJavaSdk-HttpClient-2.0.jar\n",
            "DynamoDBLocal_lib/AwsJavaSdk-HttpClient-ApacheClient-2.0.jar\n",
            "DynamoDBLocal_lib/AwsJavaSdk-HttpClient-NettyNioClient-2.0.jar\n",
            "DynamoDBLocal_lib/DynamoDBPartiQLShared-1.1.jar\n",
            "DynamoDBLocal_lib/IonJava.jar\n",
            "DynamoDBLocal_lib/JMESPathJava-1.12.x.jar\n",
            "DynamoDBLocal_lib/JakartaCommons-logging-1.2.jar\n",
            "DynamoDBLocal_lib/Log4j-api-2.x.jar\n",
            "DynamoDBLocal_lib/Log4j-core-2.x.jar\n",
            "DynamoDBLocal_lib/Log4j-slf4j-2.x.jar\n",
            "DynamoDBLocal_lib/annotations-13.0.jar\n",
            "DynamoDBLocal_lib/antlr-runtime-4.5.jar\n",
            "DynamoDBLocal_lib/aws-java-sdk-core-1.12.484.jar\n",
            "DynamoDBLocal_lib/aws-java-sdk-dynamodb-1.12.484.jar\n",
            "DynamoDBLocal_lib/aws-sdk-java-third-party-jackson-core-2.20.90.jar\n",
            "DynamoDBLocal_lib/checker-qual-3.23.0.jar\n",
            "DynamoDBLocal_lib/commons-cli-1.4.jar\n",
            "DynamoDBLocal_lib/commons-lang3-3.12.0.jar\n",
            "DynamoDBLocal_lib/error_prone_annotations-2.18.0.jar\n",
            "DynamoDBLocal_lib/failureaccess-1.0.1.jar\n",
            "DynamoDBLocal_lib/guava-30.1-jre.jar\n",
            "DynamoDBLocal_lib/infinispan-common-9.4.48.v20220622.jar\n",
            "DynamoDBLocal_lib/infinispan-embedded-query-9.4.48.v20220622.jar\n",
            "DynamoDBLocal_lib/infinispan-remote-query-9.4.48.v20220622.jar\n",
            "DynamoDBLocal_lib/ion-element-0.2.0.jar\n",
            "DynamoDBLocal_lib/ion-java-1.5.1.jar\n",
            "DynamoDBLocal_lib/j2objc-annotations-1.3.jar\n",
            "DynamoDBLocal_lib/jackson-annotations-2.12.7.jar\n",
            "DynamoDBLocal_lib/jackson-core-2.12.7.jar\n",
            "DynamoDBLocal_lib/jackson-databind-2.12.7.1.jar\n",
            "DynamoDBLocal_lib/jackson-dataformat-cbor-2.12.7.jar\n",
            "DynamoDBLocal_lib/jackson-datatype-jsr310-2.12.7.jar\n",
            "DynamoDBLocal_lib/javax-websocket-client-impl-9.4.48.v20220622.jar\n",
            "DynamoDBLocal_lib/javax-websocket-server-impl-9.4.48.v20220622.jar\n",
            "DynamoDBLocal_lib/javax.websocket-api-1.0.jar\n",
            "DynamoDBLocal_lib/jetty-alpn-conscrypt-server-9.4.48.v20220622.jar\n",
            "DynamoDBLocal_lib/jetty-alpn-java-server-9.4.48.v20220622.jar\n",
            "DynamoDBLocal_lib/jetty-alpn-openjdk8-server-9.4.48.v20220622.jar\n",
            "DynamoDBLocal_lib/jetty-alpn-server-9.4.48.v20220622.jar\n",
            "DynamoDBLocal_lib/jetty-annotations-9.4.48.v20220622.jar\n",
            "DynamoDBLocal_lib/jetty-cdi-9.4.48.v20220622.jar\n",
            "DynamoDBLocal_lib/jetty-client-9.4.48.v20220622.jar\n",
            "DynamoDBLocal_lib/jetty-continuation-9.4.48.v20220622.jar\n",
            "DynamoDBLocal_lib/jetty-deploy-9.4.48.v20220622.jar\n",
            "DynamoDBLocal_lib/jetty-hazelcast-9.4.48.v20220622.jar\n",
            "DynamoDBLocal_lib/jetty-http-9.4.48.v20220622.jar\n",
            "DynamoDBLocal_lib/jetty-io-9.4.48.v20220622.jar\n",
            "DynamoDBLocal_lib/jetty-jaas-9.4.48.v20220622.jar\n",
            "DynamoDBLocal_lib/jetty-jaspi-9.4.48.v20220622.jar\n",
            "DynamoDBLocal_lib/jetty-jmx-9.4.48.v20220622.jar\n",
            "DynamoDBLocal_lib/jetty-jndi-9.4.48.v20220622.jar\n",
            "DynamoDBLocal_lib/jetty-memcached-sessions-9.4.48.v20220622.jar\n",
            "DynamoDBLocal_lib/jetty-nosql-9.4.48.v20220622.jar\n",
            "DynamoDBLocal_lib/jetty-openid-9.4.48.v20220622.jar\n",
            "DynamoDBLocal_lib/jetty-plus-9.4.48.v20220622.jar\n",
            "DynamoDBLocal_lib/jetty-proxy-9.4.48.v20220622.jar\n",
            "DynamoDBLocal_lib/jetty-quickstart-9.4.48.v20220622.jar\n",
            "DynamoDBLocal_lib/jetty-rewrite-9.4.48.v20220622.jar\n",
            "DynamoDBLocal_lib/jetty-schemas-3.1.jar\n",
            "DynamoDBLocal_lib/jetty-security-9.4.48.v20220622.jar\n",
            "DynamoDBLocal_lib/jetty-server-9.4.48.v20220622.jar\n",
            "DynamoDBLocal_lib/jetty-servlet-9.4.48.v20220622.jar\n",
            "DynamoDBLocal_lib/jetty-servlets-9.4.48.v20220622.jar\n",
            "DynamoDBLocal_lib/jetty-setuid-java-1.0.4.jar\n",
            "DynamoDBLocal_lib/jetty-spring-9.4.48.v20220622.jar\n",
            "DynamoDBLocal_lib/jetty-unixsocket-9.4.48.v20220622.jar\n",
            "DynamoDBLocal_lib/jetty-util-9.4.48.v20220622.jar\n",
            "DynamoDBLocal_lib/jetty-util-ajax-9.4.48.v20220622.jar\n",
            "DynamoDBLocal_lib/jetty-webapp-9.4.48.v20220622.jar\n",
            "DynamoDBLocal_lib/jetty-xml-9.4.48.v20220622.jar\n",
            "DynamoDBLocal_lib/joda-time-2.12.5.jar\n",
            "DynamoDBLocal_lib/jsr305-3.0.2.jar\n",
            "DynamoDBLocal_lib/kotlin-stdlib-1.6.21.jar\n",
            "DynamoDBLocal_lib/kotlin-stdlib-common-1.6.21.jar\n",
            "DynamoDBLocal_lib/kotlin-stdlib-jdk7-1.3.72.jar\n",
            "DynamoDBLocal_lib/kotlin-stdlib-jdk8-1.3.72.jar\n",
            "DynamoDBLocal_lib/libsqlite4java-linux-aarch64.so\n",
            "DynamoDBLocal_lib/libsqlite4java-linux-amd64.so\n",
            "DynamoDBLocal_lib/libsqlite4java-linux-i386.so\n",
            "DynamoDBLocal_lib/libsqlite4java-osx-aarch64.dylib\n",
            "DynamoDBLocal_lib/libsqlite4java-osx-x86_64.dylib\n",
            "DynamoDBLocal_lib/libsqlite4java-osx.dylib\n",
            "DynamoDBLocal_lib/netty-all-4.1.jar\n",
            "DynamoDBLocal_lib/partiql-ir-generator-runtime-0.4.0.jar\n",
            "DynamoDBLocal_lib/partiql-lang-kotlin-0.3.4.jar\n",
            "DynamoDBLocal_lib/reactive-streams-1.0.4.jar\n",
            "DynamoDBLocal_lib/servlet-api-3.1.jar\n",
            "DynamoDBLocal_lib/slf4j-api-1.7.32.jar\n",
            "DynamoDBLocal_lib/slf4j-ext-1.7.32.jar\n",
            "DynamoDBLocal_lib/sqlite4java-win32-x64.dll\n",
            "DynamoDBLocal_lib/sqlite4java-win32-x86.dll\n",
            "DynamoDBLocal_lib/sqlite4java.jar\n",
            "DynamoDBLocal_lib/websocket-api-9.4.48.v20220622.jar\n",
            "DynamoDBLocal_lib/websocket-client-9.4.48.v20220622.jar\n",
            "DynamoDBLocal_lib/websocket-common-9.4.48.v20220622.jar\n",
            "DynamoDBLocal_lib/websocket-server-9.4.48.v20220622.jar\n",
            "DynamoDBLocal_lib/websocket-servlet-9.4.48.v20220622.jar\n",
            "LICENSE.txt\n",
            "README.txt\n",
            "THIRD-PARTY-LICENSES.txt\n"
          ]
        }
      ]
    },
    {
      "cell_type": "code",
      "source": [
        "# 啟動後暫停\n",
        "!java -Djava.library.path=./DynamoDBLocal_lib -jar DynamoDBLocal.jar -sharedDb &"
      ],
      "metadata": {
        "colab": {
          "base_uri": "https://localhost:8080/",
          "height": 471
        },
        "id": "SE6HUj7us7dl",
        "outputId": "0b078879-260d-44c1-d6aa-98468a4371cf"
      },
      "execution_count": 2,
      "outputs": [
        {
          "output_type": "stream",
          "name": "stdout",
          "text": [
            "Initializing DynamoDB Local with the following configuration:\n",
            "Port:\t8000\n",
            "InMemory:\tfalse\n",
            "DbPath:\tnull\n",
            "SharedDb:\ttrue\n",
            "shouldDelayTransientStatuses:\tfalse\n",
            "CorsParams:\tnull\n",
            "\n"
          ]
        },
        {
          "output_type": "error",
          "ename": "KeyboardInterrupt",
          "evalue": "ignored",
          "traceback": [
            "\u001b[0;31m---------------------------------------------------------------------------\u001b[0m",
            "\u001b[0;31mKeyboardInterrupt\u001b[0m                         Traceback (most recent call last)",
            "\u001b[0;32m<ipython-input-2-bfdb08b99b81>\u001b[0m in \u001b[0;36m<cell line: 1>\u001b[0;34m()\u001b[0m\n\u001b[0;32m----> 1\u001b[0;31m \u001b[0mget_ipython\u001b[0m\u001b[0;34m(\u001b[0m\u001b[0;34m)\u001b[0m\u001b[0;34m.\u001b[0m\u001b[0msystem\u001b[0m\u001b[0;34m(\u001b[0m\u001b[0;34m'java -Djava.library.path=./DynamoDBLocal_lib -jar DynamoDBLocal.jar -sharedDb &'\u001b[0m\u001b[0;34m)\u001b[0m\u001b[0;34m\u001b[0m\u001b[0;34m\u001b[0m\u001b[0m\n\u001b[0m",
            "\u001b[0;32m/usr/local/lib/python3.10/dist-packages/google/colab/_shell.py\u001b[0m in \u001b[0;36msystem\u001b[0;34m(self, *args, **kwargs)\u001b[0m\n\u001b[1;32m     97\u001b[0m       \u001b[0mkwargs\u001b[0m\u001b[0;34m.\u001b[0m\u001b[0mupdate\u001b[0m\u001b[0;34m(\u001b[0m\u001b[0;34m{\u001b[0m\u001b[0;34m'also_return_output'\u001b[0m\u001b[0;34m:\u001b[0m \u001b[0;32mTrue\u001b[0m\u001b[0;34m}\u001b[0m\u001b[0;34m)\u001b[0m\u001b[0;34m\u001b[0m\u001b[0;34m\u001b[0m\u001b[0m\n\u001b[1;32m     98\u001b[0m \u001b[0;34m\u001b[0m\u001b[0m\n\u001b[0;32m---> 99\u001b[0;31m     \u001b[0moutput\u001b[0m \u001b[0;34m=\u001b[0m \u001b[0m_system_commands\u001b[0m\u001b[0;34m.\u001b[0m\u001b[0m_system_compat\u001b[0m\u001b[0;34m(\u001b[0m\u001b[0mself\u001b[0m\u001b[0;34m,\u001b[0m \u001b[0;34m*\u001b[0m\u001b[0margs\u001b[0m\u001b[0;34m,\u001b[0m \u001b[0;34m**\u001b[0m\u001b[0mkwargs\u001b[0m\u001b[0;34m)\u001b[0m  \u001b[0;31m# pylint:disable=protected-access\u001b[0m\u001b[0;34m\u001b[0m\u001b[0;34m\u001b[0m\u001b[0m\n\u001b[0m\u001b[1;32m    100\u001b[0m \u001b[0;34m\u001b[0m\u001b[0m\n\u001b[1;32m    101\u001b[0m     \u001b[0;32mif\u001b[0m \u001b[0mpip_warn\u001b[0m\u001b[0;34m:\u001b[0m\u001b[0;34m\u001b[0m\u001b[0;34m\u001b[0m\u001b[0m\n",
            "\u001b[0;32m/usr/local/lib/python3.10/dist-packages/google/colab/_system_commands.py\u001b[0m in \u001b[0;36m_system_compat\u001b[0;34m(shell, cmd, also_return_output)\u001b[0m\n\u001b[1;32m    451\u001b[0m   \u001b[0;31m# is expected to call this function, thus adding one level of nesting to the\u001b[0m\u001b[0;34m\u001b[0m\u001b[0;34m\u001b[0m\u001b[0m\n\u001b[1;32m    452\u001b[0m   \u001b[0;31m# stack.\u001b[0m\u001b[0;34m\u001b[0m\u001b[0;34m\u001b[0m\u001b[0m\n\u001b[0;32m--> 453\u001b[0;31m   result = _run_command(\n\u001b[0m\u001b[1;32m    454\u001b[0m       \u001b[0mshell\u001b[0m\u001b[0;34m.\u001b[0m\u001b[0mvar_expand\u001b[0m\u001b[0;34m(\u001b[0m\u001b[0mcmd\u001b[0m\u001b[0;34m,\u001b[0m \u001b[0mdepth\u001b[0m\u001b[0;34m=\u001b[0m\u001b[0;36m2\u001b[0m\u001b[0;34m)\u001b[0m\u001b[0;34m,\u001b[0m \u001b[0mclear_streamed_output\u001b[0m\u001b[0;34m=\u001b[0m\u001b[0;32mFalse\u001b[0m\u001b[0;34m\u001b[0m\u001b[0;34m\u001b[0m\u001b[0m\n\u001b[1;32m    455\u001b[0m   )\n",
            "\u001b[0;32m/usr/local/lib/python3.10/dist-packages/google/colab/_system_commands.py\u001b[0m in \u001b[0;36m_run_command\u001b[0;34m(cmd, clear_streamed_output)\u001b[0m\n\u001b[1;32m    201\u001b[0m       \u001b[0mos\u001b[0m\u001b[0;34m.\u001b[0m\u001b[0mclose\u001b[0m\u001b[0;34m(\u001b[0m\u001b[0mchild_pty\u001b[0m\u001b[0;34m)\u001b[0m\u001b[0;34m\u001b[0m\u001b[0;34m\u001b[0m\u001b[0m\n\u001b[1;32m    202\u001b[0m \u001b[0;34m\u001b[0m\u001b[0m\n\u001b[0;32m--> 203\u001b[0;31m       \u001b[0;32mreturn\u001b[0m \u001b[0m_monitor_process\u001b[0m\u001b[0;34m(\u001b[0m\u001b[0mparent_pty\u001b[0m\u001b[0;34m,\u001b[0m \u001b[0mepoll\u001b[0m\u001b[0;34m,\u001b[0m \u001b[0mp\u001b[0m\u001b[0;34m,\u001b[0m \u001b[0mcmd\u001b[0m\u001b[0;34m,\u001b[0m \u001b[0mupdate_stdin_widget\u001b[0m\u001b[0;34m)\u001b[0m\u001b[0;34m\u001b[0m\u001b[0;34m\u001b[0m\u001b[0m\n\u001b[0m\u001b[1;32m    204\u001b[0m   \u001b[0;32mfinally\u001b[0m\u001b[0;34m:\u001b[0m\u001b[0;34m\u001b[0m\u001b[0;34m\u001b[0m\u001b[0m\n\u001b[1;32m    205\u001b[0m     \u001b[0mepoll\u001b[0m\u001b[0;34m.\u001b[0m\u001b[0mclose\u001b[0m\u001b[0;34m(\u001b[0m\u001b[0;34m)\u001b[0m\u001b[0;34m\u001b[0m\u001b[0;34m\u001b[0m\u001b[0m\n",
            "\u001b[0;32m/usr/local/lib/python3.10/dist-packages/google/colab/_system_commands.py\u001b[0m in \u001b[0;36m_monitor_process\u001b[0;34m(parent_pty, epoll, p, cmd, update_stdin_widget)\u001b[0m\n\u001b[1;32m    231\u001b[0m   \u001b[0;32mwhile\u001b[0m \u001b[0;32mTrue\u001b[0m\u001b[0;34m:\u001b[0m\u001b[0;34m\u001b[0m\u001b[0;34m\u001b[0m\u001b[0m\n\u001b[1;32m    232\u001b[0m     \u001b[0;32mtry\u001b[0m\u001b[0;34m:\u001b[0m\u001b[0;34m\u001b[0m\u001b[0;34m\u001b[0m\u001b[0m\n\u001b[0;32m--> 233\u001b[0;31m       \u001b[0mresult\u001b[0m \u001b[0;34m=\u001b[0m \u001b[0m_poll_process\u001b[0m\u001b[0;34m(\u001b[0m\u001b[0mparent_pty\u001b[0m\u001b[0;34m,\u001b[0m \u001b[0mepoll\u001b[0m\u001b[0;34m,\u001b[0m \u001b[0mp\u001b[0m\u001b[0;34m,\u001b[0m \u001b[0mcmd\u001b[0m\u001b[0;34m,\u001b[0m \u001b[0mdecoder\u001b[0m\u001b[0;34m,\u001b[0m \u001b[0mstate\u001b[0m\u001b[0;34m)\u001b[0m\u001b[0;34m\u001b[0m\u001b[0;34m\u001b[0m\u001b[0m\n\u001b[0m\u001b[1;32m    234\u001b[0m       \u001b[0;32mif\u001b[0m \u001b[0mresult\u001b[0m \u001b[0;32mis\u001b[0m \u001b[0;32mnot\u001b[0m \u001b[0;32mNone\u001b[0m\u001b[0;34m:\u001b[0m\u001b[0;34m\u001b[0m\u001b[0;34m\u001b[0m\u001b[0m\n\u001b[1;32m    235\u001b[0m         \u001b[0;32mreturn\u001b[0m \u001b[0mresult\u001b[0m\u001b[0;34m\u001b[0m\u001b[0;34m\u001b[0m\u001b[0m\n",
            "\u001b[0;32m/usr/local/lib/python3.10/dist-packages/google/colab/_system_commands.py\u001b[0m in \u001b[0;36m_poll_process\u001b[0;34m(parent_pty, epoll, p, cmd, decoder, state)\u001b[0m\n\u001b[1;32m    279\u001b[0m   \u001b[0moutput_available\u001b[0m \u001b[0;34m=\u001b[0m \u001b[0;32mFalse\u001b[0m\u001b[0;34m\u001b[0m\u001b[0;34m\u001b[0m\u001b[0m\n\u001b[1;32m    280\u001b[0m \u001b[0;34m\u001b[0m\u001b[0m\n\u001b[0;32m--> 281\u001b[0;31m   \u001b[0mevents\u001b[0m \u001b[0;34m=\u001b[0m \u001b[0mepoll\u001b[0m\u001b[0;34m.\u001b[0m\u001b[0mpoll\u001b[0m\u001b[0;34m(\u001b[0m\u001b[0;34m)\u001b[0m\u001b[0;34m\u001b[0m\u001b[0;34m\u001b[0m\u001b[0m\n\u001b[0m\u001b[1;32m    282\u001b[0m   \u001b[0minput_events\u001b[0m \u001b[0;34m=\u001b[0m \u001b[0;34m[\u001b[0m\u001b[0;34m]\u001b[0m\u001b[0;34m\u001b[0m\u001b[0;34m\u001b[0m\u001b[0m\n\u001b[1;32m    283\u001b[0m   \u001b[0;32mfor\u001b[0m \u001b[0m_\u001b[0m\u001b[0;34m,\u001b[0m \u001b[0mevent\u001b[0m \u001b[0;32min\u001b[0m \u001b[0mevents\u001b[0m\u001b[0;34m:\u001b[0m\u001b[0;34m\u001b[0m\u001b[0;34m\u001b[0m\u001b[0m\n",
            "\u001b[0;31mKeyboardInterrupt\u001b[0m: "
          ]
        }
      ]
    },
    {
      "cell_type": "code",
      "source": [
        "!pip install boto3"
      ],
      "metadata": {
        "colab": {
          "base_uri": "https://localhost:8080/"
        },
        "id": "pUjGxpm-kxqN",
        "outputId": "cb7f7f00-e02e-4ffd-875b-b6d57db5fe93"
      },
      "execution_count": 3,
      "outputs": [
        {
          "output_type": "stream",
          "name": "stdout",
          "text": [
            "Collecting boto3\n",
            "  Downloading boto3-1.28.18-py3-none-any.whl (135 kB)\n",
            "\u001b[2K     \u001b[90m━━━━━━━━━━━━━━━━━━━━━━━━━━━━━━━━━━━━━━━\u001b[0m \u001b[32m135.8/135.8 kB\u001b[0m \u001b[31m2.6 MB/s\u001b[0m eta \u001b[36m0:00:00\u001b[0m\n",
            "\u001b[?25hCollecting botocore<1.32.0,>=1.31.18 (from boto3)\n",
            "  Downloading botocore-1.31.18-py3-none-any.whl (11.1 MB)\n",
            "\u001b[2K     \u001b[90m━━━━━━━━━━━━━━━━━━━━━━━━━━━━━━━━━━━━━━━━\u001b[0m \u001b[32m11.1/11.1 MB\u001b[0m \u001b[31m20.2 MB/s\u001b[0m eta \u001b[36m0:00:00\u001b[0m\n",
            "\u001b[?25hCollecting jmespath<2.0.0,>=0.7.1 (from boto3)\n",
            "  Downloading jmespath-1.0.1-py3-none-any.whl (20 kB)\n",
            "Collecting s3transfer<0.7.0,>=0.6.0 (from boto3)\n",
            "  Downloading s3transfer-0.6.1-py3-none-any.whl (79 kB)\n",
            "\u001b[2K     \u001b[90m━━━━━━━━━━━━━━━━━━━━━━━━━━━━━━━━━━━━━━━━\u001b[0m \u001b[32m79.8/79.8 kB\u001b[0m \u001b[31m7.0 MB/s\u001b[0m eta \u001b[36m0:00:00\u001b[0m\n",
            "\u001b[?25hRequirement already satisfied: python-dateutil<3.0.0,>=2.1 in /usr/local/lib/python3.10/dist-packages (from botocore<1.32.0,>=1.31.18->boto3) (2.8.2)\n",
            "Requirement already satisfied: urllib3<1.27,>=1.25.4 in /usr/local/lib/python3.10/dist-packages (from botocore<1.32.0,>=1.31.18->boto3) (1.26.16)\n",
            "Requirement already satisfied: six>=1.5 in /usr/local/lib/python3.10/dist-packages (from python-dateutil<3.0.0,>=2.1->botocore<1.32.0,>=1.31.18->boto3) (1.16.0)\n",
            "Installing collected packages: jmespath, botocore, s3transfer, boto3\n",
            "Successfully installed boto3-1.28.18 botocore-1.31.18 jmespath-1.0.1 s3transfer-0.6.1\n"
          ]
        }
      ]
    },
    {
      "cell_type": "code",
      "source": [
        "import boto3\n",
        "from botocore.config import Config\n",
        "from botocore.exceptions import NoCredentialsError"
      ],
      "metadata": {
        "id": "A5rX5Ckpk6-W"
      },
      "execution_count": 4,
      "outputs": []
    },
    {
      "cell_type": "code",
      "source": [
        "import secrets\n",
        "import string\n",
        "\n",
        "allowed_chars = string.ascii_letters + string.digits\n",
        "\n",
        "fake_key = ''.join(secrets.choice(allowed_chars) for _ in range(40))\n",
        "fake_key"
      ],
      "metadata": {
        "colab": {
          "base_uri": "https://localhost:8080/",
          "height": 35
        },
        "id": "x3WzKBXLrFBK",
        "outputId": "7d9116e9-8248-4653-c829-e0c8d2c362f4"
      },
      "execution_count": 5,
      "outputs": [
        {
          "output_type": "execute_result",
          "data": {
            "text/plain": [
              "'NUtd3GoiyGuSKzt6CvQWXH7j39D1xeNLtgsycN6O'"
            ],
            "application/vnd.google.colaboratory.intrinsic+json": {
              "type": "string"
            }
          },
          "metadata": {},
          "execution_count": 5
        }
      ]
    },
    {
      "cell_type": "code",
      "source": [
        "dynamodb = boto3.resource(\n",
        "    'dynamodb',\n",
        "    endpoint_url='http://localhost:8000',\n",
        "    aws_access_key_id='FAKEFAKEFAKEKEFAKEFA',\n",
        "    aws_secret_access_key=fake_key,\n",
        "    region_name='us-west-2'\n",
        ")"
      ],
      "metadata": {
        "id": "lvtvUEG4k-VG"
      },
      "execution_count": 6,
      "outputs": []
    },
    {
      "cell_type": "code",
      "source": [
        "# Create the DynamoDB table.\n",
        "table = dynamodb.create_table(\n",
        "    TableName=\"SessionTable\",\n",
        "    KeySchema=[{\"AttributeName\": \"SessionId\", \"KeyType\": \"HASH\"}],\n",
        "    AttributeDefinitions=[{\"AttributeName\": \"SessionId\", \"AttributeType\": \"S\"}],\n",
        "    BillingMode=\"PAY_PER_REQUEST\",\n",
        ")\n",
        "\n",
        "# Wait until the table exists.\n",
        "table.meta.client.get_waiter(\"table_exists\").wait(TableName=\"SessionTable\")\n",
        "\n",
        "# Print out some data about the table.\n",
        "print(table.item_count)"
      ],
      "metadata": {
        "colab": {
          "base_uri": "https://localhost:8080/"
        },
        "id": "afM4whfClC_-",
        "outputId": "365fb188-0fbd-4308-9d52-68d7a755b004"
      },
      "execution_count": 7,
      "outputs": [
        {
          "output_type": "stream",
          "name": "stdout",
          "text": [
            "0\n"
          ]
        }
      ]
    },
    {
      "cell_type": "code",
      "source": [
        "from google.colab import drive\n",
        "import os\n",
        "\n",
        "drive.mount('/content/drive')\n",
        "os.chdir('/content/drive/MyDrive/Colab Notebooks/LangChain')\n",
        "with open('env_vars.txt', 'r') as file:\n",
        "  for line in file:\n",
        "    key, value = line.strip().split('=')\n",
        "    os.environ[key] = value\n",
        "\n",
        "!pip install langchain==0.0.247 openai"
      ],
      "metadata": {
        "colab": {
          "base_uri": "https://localhost:8080/"
        },
        "id": "2lcQOKtvlKRG",
        "outputId": "dc6c4f81-a5b6-4939-8315-f952a9563c53"
      },
      "execution_count": 8,
      "outputs": [
        {
          "output_type": "stream",
          "name": "stdout",
          "text": [
            "Mounted at /content/drive\n",
            "Collecting langchain==0.0.247\n",
            "  Downloading langchain-0.0.247-py3-none-any.whl (1.4 MB)\n",
            "\u001b[2K     \u001b[90m━━━━━━━━━━━━━━━━━━━━━━━━━━━━━━━━━━━━━━━━\u001b[0m \u001b[32m1.4/1.4 MB\u001b[0m \u001b[31m6.9 MB/s\u001b[0m eta \u001b[36m0:00:00\u001b[0m\n",
            "\u001b[?25hCollecting openai\n",
            "  Downloading openai-0.27.8-py3-none-any.whl (73 kB)\n",
            "\u001b[2K     \u001b[90m━━━━━━━━━━━━━━━━━━━━━━━━━━━━━━━━━━━━━━━━\u001b[0m \u001b[32m73.6/73.6 kB\u001b[0m \u001b[31m6.7 MB/s\u001b[0m eta \u001b[36m0:00:00\u001b[0m\n",
            "\u001b[?25hRequirement already satisfied: PyYAML>=5.4.1 in /usr/local/lib/python3.10/dist-packages (from langchain==0.0.247) (6.0.1)\n",
            "Requirement already satisfied: SQLAlchemy<3,>=1.4 in /usr/local/lib/python3.10/dist-packages (from langchain==0.0.247) (2.0.19)\n",
            "Requirement already satisfied: aiohttp<4.0.0,>=3.8.3 in /usr/local/lib/python3.10/dist-packages (from langchain==0.0.247) (3.8.5)\n",
            "Requirement already satisfied: async-timeout<5.0.0,>=4.0.0 in /usr/local/lib/python3.10/dist-packages (from langchain==0.0.247) (4.0.2)\n",
            "Collecting dataclasses-json<0.6.0,>=0.5.7 (from langchain==0.0.247)\n",
            "  Downloading dataclasses_json-0.5.14-py3-none-any.whl (26 kB)\n",
            "Collecting langsmith<0.1.0,>=0.0.11 (from langchain==0.0.247)\n",
            "  Downloading langsmith-0.0.16-py3-none-any.whl (29 kB)\n",
            "Requirement already satisfied: numexpr<3.0.0,>=2.8.4 in /usr/local/lib/python3.10/dist-packages (from langchain==0.0.247) (2.8.4)\n",
            "Requirement already satisfied: numpy<2,>=1 in /usr/local/lib/python3.10/dist-packages (from langchain==0.0.247) (1.22.4)\n",
            "Collecting openapi-schema-pydantic<2.0,>=1.2 (from langchain==0.0.247)\n",
            "  Downloading openapi_schema_pydantic-1.2.4-py3-none-any.whl (90 kB)\n",
            "\u001b[2K     \u001b[90m━━━━━━━━━━━━━━━━━━━━━━━━━━━━━━━━━━━━━━━━\u001b[0m \u001b[32m90.0/90.0 kB\u001b[0m \u001b[31m6.6 MB/s\u001b[0m eta \u001b[36m0:00:00\u001b[0m\n",
            "\u001b[?25hRequirement already satisfied: pydantic<2,>=1 in /usr/local/lib/python3.10/dist-packages (from langchain==0.0.247) (1.10.12)\n",
            "Requirement already satisfied: requests<3,>=2 in /usr/local/lib/python3.10/dist-packages (from langchain==0.0.247) (2.27.1)\n",
            "Requirement already satisfied: tenacity<9.0.0,>=8.1.0 in /usr/local/lib/python3.10/dist-packages (from langchain==0.0.247) (8.2.2)\n",
            "Requirement already satisfied: tqdm in /usr/local/lib/python3.10/dist-packages (from openai) (4.65.0)\n",
            "Requirement already satisfied: attrs>=17.3.0 in /usr/local/lib/python3.10/dist-packages (from aiohttp<4.0.0,>=3.8.3->langchain==0.0.247) (23.1.0)\n",
            "Requirement already satisfied: charset-normalizer<4.0,>=2.0 in /usr/local/lib/python3.10/dist-packages (from aiohttp<4.0.0,>=3.8.3->langchain==0.0.247) (2.0.12)\n",
            "Requirement already satisfied: multidict<7.0,>=4.5 in /usr/local/lib/python3.10/dist-packages (from aiohttp<4.0.0,>=3.8.3->langchain==0.0.247) (6.0.4)\n",
            "Requirement already satisfied: yarl<2.0,>=1.0 in /usr/local/lib/python3.10/dist-packages (from aiohttp<4.0.0,>=3.8.3->langchain==0.0.247) (1.9.2)\n",
            "Requirement already satisfied: frozenlist>=1.1.1 in /usr/local/lib/python3.10/dist-packages (from aiohttp<4.0.0,>=3.8.3->langchain==0.0.247) (1.4.0)\n",
            "Requirement already satisfied: aiosignal>=1.1.2 in /usr/local/lib/python3.10/dist-packages (from aiohttp<4.0.0,>=3.8.3->langchain==0.0.247) (1.3.1)\n",
            "Collecting marshmallow<4.0.0,>=3.18.0 (from dataclasses-json<0.6.0,>=0.5.7->langchain==0.0.247)\n",
            "  Downloading marshmallow-3.20.1-py3-none-any.whl (49 kB)\n",
            "\u001b[2K     \u001b[90m━━━━━━━━━━━━━━━━━━━━━━━━━━━━━━━━━━━━━━━━\u001b[0m \u001b[32m49.4/49.4 kB\u001b[0m \u001b[31m4.6 MB/s\u001b[0m eta \u001b[36m0:00:00\u001b[0m\n",
            "\u001b[?25hCollecting typing-inspect<1,>=0.4.0 (from dataclasses-json<0.6.0,>=0.5.7->langchain==0.0.247)\n",
            "  Downloading typing_inspect-0.9.0-py3-none-any.whl (8.8 kB)\n",
            "Requirement already satisfied: typing-extensions>=4.2.0 in /usr/local/lib/python3.10/dist-packages (from pydantic<2,>=1->langchain==0.0.247) (4.7.1)\n",
            "Requirement already satisfied: urllib3<1.27,>=1.21.1 in /usr/local/lib/python3.10/dist-packages (from requests<3,>=2->langchain==0.0.247) (1.26.16)\n",
            "Requirement already satisfied: certifi>=2017.4.17 in /usr/local/lib/python3.10/dist-packages (from requests<3,>=2->langchain==0.0.247) (2023.7.22)\n",
            "Requirement already satisfied: idna<4,>=2.5 in /usr/local/lib/python3.10/dist-packages (from requests<3,>=2->langchain==0.0.247) (3.4)\n",
            "Requirement already satisfied: greenlet!=0.4.17 in /usr/local/lib/python3.10/dist-packages (from SQLAlchemy<3,>=1.4->langchain==0.0.247) (2.0.2)\n",
            "Requirement already satisfied: packaging>=17.0 in /usr/local/lib/python3.10/dist-packages (from marshmallow<4.0.0,>=3.18.0->dataclasses-json<0.6.0,>=0.5.7->langchain==0.0.247) (23.1)\n",
            "Collecting mypy-extensions>=0.3.0 (from typing-inspect<1,>=0.4.0->dataclasses-json<0.6.0,>=0.5.7->langchain==0.0.247)\n",
            "  Downloading mypy_extensions-1.0.0-py3-none-any.whl (4.7 kB)\n",
            "Installing collected packages: mypy-extensions, marshmallow, typing-inspect, openapi-schema-pydantic, langsmith, openai, dataclasses-json, langchain\n",
            "Successfully installed dataclasses-json-0.5.14 langchain-0.0.247 langsmith-0.0.16 marshmallow-3.20.1 mypy-extensions-1.0.0 openai-0.27.8 openapi-schema-pydantic-1.2.4 typing-inspect-0.9.0\n"
          ]
        }
      ]
    },
    {
      "cell_type": "code",
      "source": [
        "from langchain.chat_models import ChatOpenAI\n",
        "from langchain.prompts import (\n",
        "    ChatPromptTemplate,\n",
        "    MessagesPlaceholder,\n",
        "    SystemMessagePromptTemplate,\n",
        "    HumanMessagePromptTemplate,\n",
        ")\n",
        "from langchain.memory.chat_message_histories import DynamoDBChatMessageHistory\n",
        "from langchain.memory import ConversationBufferMemory\n",
        "from langchain.chains import LLMChain\n",
        "\n",
        "def local_bot(session_id):\n",
        "  llm = ChatOpenAI()\n",
        "  prompt = ChatPromptTemplate(\n",
        "      messages=[\n",
        "          SystemMessagePromptTemplate.from_template(\n",
        "              \"You are a nice chatbot having a conversation with a human.\"\n",
        "          ),\n",
        "          MessagesPlaceholder(variable_name=\"chat_history\"),\n",
        "          HumanMessagePromptTemplate.from_template(\"{question}\")\n",
        "      ]\n",
        "  )\n",
        "  message_history = DynamoDBChatMessageHistory(table_name=\"SessionTable\", endpoint_url='http://localhost:8000', session_id=session_id)\n",
        "  memory = ConversationBufferMemory(\n",
        "      memory_key=\"chat_history\", chat_memory=message_history, return_messages=True\n",
        "  )\n",
        "  bot = LLMChain(\n",
        "      llm=llm,\n",
        "      prompt=prompt,\n",
        "      verbose=True,\n",
        "      memory=memory\n",
        "  )\n",
        "  return bot"
      ],
      "metadata": {
        "id": "DSvfmUVzla7e"
      },
      "execution_count": 17,
      "outputs": []
    },
    {
      "cell_type": "code",
      "source": [
        "local_bot(\"nick\").run({\"question\": \"hi I'm Nick\"})"
      ],
      "metadata": {
        "colab": {
          "base_uri": "https://localhost:8080/",
          "height": 174
        },
        "id": "5t22RJz--M-q",
        "outputId": "4e4aac14-8a49-4ea2-a313-2f9ff7f7eef4"
      },
      "execution_count": 13,
      "outputs": [
        {
          "output_type": "stream",
          "name": "stdout",
          "text": [
            "\n",
            "\n",
            "\u001b[1m> Entering new LLMChain chain...\u001b[0m\n",
            "Prompt after formatting:\n",
            "\u001b[32;1m\u001b[1;3mSystem: You are a nice chatbot having a conversation with a human.\n",
            "Human: hi I'm Nick\u001b[0m\n",
            "\n",
            "\u001b[1m> Finished chain.\u001b[0m\n"
          ]
        },
        {
          "output_type": "execute_result",
          "data": {
            "text/plain": [
              "'Hello Nick! How can I assist you today?'"
            ],
            "application/vnd.google.colaboratory.intrinsic+json": {
              "type": "string"
            }
          },
          "metadata": {},
          "execution_count": 13
        }
      ]
    },
    {
      "cell_type": "code",
      "source": [
        "local_bot(\"oliver\").run({\"question\": \"hi I'm Oliver\"})"
      ],
      "metadata": {
        "colab": {
          "base_uri": "https://localhost:8080/",
          "height": 174
        },
        "id": "kPCyL8Oa-Q7r",
        "outputId": "5fead09e-8035-44da-f7e9-04a6e9a14e4a"
      },
      "execution_count": 14,
      "outputs": [
        {
          "output_type": "stream",
          "name": "stdout",
          "text": [
            "\n",
            "\n",
            "\u001b[1m> Entering new LLMChain chain...\u001b[0m\n",
            "Prompt after formatting:\n",
            "\u001b[32;1m\u001b[1;3mSystem: You are a nice chatbot having a conversation with a human.\n",
            "Human: hi I'm Oliver\u001b[0m\n",
            "\n",
            "\u001b[1m> Finished chain.\u001b[0m\n"
          ]
        },
        {
          "output_type": "execute_result",
          "data": {
            "text/plain": [
              "'Hello Oliver! How can I assist you today?'"
            ],
            "application/vnd.google.colaboratory.intrinsic+json": {
              "type": "string"
            }
          },
          "metadata": {},
          "execution_count": 14
        }
      ]
    },
    {
      "cell_type": "code",
      "source": [
        "local_bot(\"nick\").run({\"question\": \"你知道我的名字嗎\"})"
      ],
      "metadata": {
        "colab": {
          "base_uri": "https://localhost:8080/",
          "height": 209
        },
        "id": "DpQ-2M3b-VwK",
        "outputId": "5e9b42a9-1a65-4a30-9576-a5d79717220f"
      },
      "execution_count": 15,
      "outputs": [
        {
          "output_type": "stream",
          "name": "stdout",
          "text": [
            "\n",
            "\n",
            "\u001b[1m> Entering new LLMChain chain...\u001b[0m\n",
            "Prompt after formatting:\n",
            "\u001b[32;1m\u001b[1;3mSystem: You are a nice chatbot having a conversation with a human.\n",
            "Human: hi I'm Nick\n",
            "AI: Hello Nick! How can I assist you today?\n",
            "Human: 你知道我的名字嗎\u001b[0m\n",
            "\n",
            "\u001b[1m> Finished chain.\u001b[0m\n"
          ]
        },
        {
          "output_type": "execute_result",
          "data": {
            "text/plain": [
              "'是的，你剛剛告訴我你的名字是Nick。有什麼我可以幫助你的嗎？'"
            ],
            "application/vnd.google.colaboratory.intrinsic+json": {
              "type": "string"
            }
          },
          "metadata": {},
          "execution_count": 15
        }
      ]
    },
    {
      "cell_type": "code",
      "source": [
        "history = DynamoDBChatMessageHistory(table_name=\"SessionTable\", endpoint_url='http://localhost:8000', session_id=\"nick\")\n",
        "history.messages"
      ],
      "metadata": {
        "colab": {
          "base_uri": "https://localhost:8080/"
        },
        "id": "eV7dZSZ2-pvh",
        "outputId": "17494416-89f1-4f9e-e485-eaec2ad2804c"
      },
      "execution_count": 16,
      "outputs": [
        {
          "output_type": "execute_result",
          "data": {
            "text/plain": [
              "[HumanMessage(content=\"hi I'm Nick\", additional_kwargs={}, example=False),\n",
              " AIMessage(content='Hello Nick! How can I assist you today?', additional_kwargs={}, example=False),\n",
              " HumanMessage(content='你知道我的名字嗎', additional_kwargs={}, example=False),\n",
              " AIMessage(content='是的，你剛剛告訴我你的名字是Nick。有什麼我可以幫助你的嗎？', additional_kwargs={}, example=False)]"
            ]
          },
          "metadata": {},
          "execution_count": 16
        }
      ]
    },
    {
      "cell_type": "code",
      "source": [],
      "metadata": {
        "id": "WzLKhRB2-zCC"
      },
      "execution_count": null,
      "outputs": []
    }
  ]
}