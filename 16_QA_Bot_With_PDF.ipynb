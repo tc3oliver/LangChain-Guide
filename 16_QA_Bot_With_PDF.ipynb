{
  "nbformat": 4,
  "nbformat_minor": 0,
  "metadata": {
    "colab": {
      "provenance": [],
      "authorship_tag": "ABX9TyOnsCwJl+HYxLxiEqw+kJvU",
      "include_colab_link": true
    },
    "kernelspec": {
      "name": "python3",
      "display_name": "Python 3"
    },
    "language_info": {
      "name": "python"
    }
  },
  "cells": [
    {
      "cell_type": "markdown",
      "metadata": {
        "id": "view-in-github",
        "colab_type": "text"
      },
      "source": [
        "<a href=\"https://colab.research.google.com/github/tc3oliver/LangChain-Guide/blob/dev/16_QA_Bot_With_PDF.ipynb\" target=\"_parent\"><img src=\"https://colab.research.google.com/assets/colab-badge.svg\" alt=\"Open In Colab\"/></a>"
      ]
    },
    {
      "cell_type": "code",
      "execution_count": 1,
      "metadata": {
        "colab": {
          "base_uri": "https://localhost:8080/"
        },
        "id": "992UdW12ks_d",
        "outputId": "3a67ecfb-2763-47f6-ab11-14c936a89f33"
      },
      "outputs": [
        {
          "output_type": "stream",
          "name": "stdout",
          "text": [
            "Mounted at /content/drive\n"
          ]
        }
      ],
      "source": [
        "from google.colab import drive\n",
        "import os\n",
        "\n",
        "drive.mount('/content/drive')\n",
        "os.chdir('/content/drive/MyDrive/Colab Notebooks/LangChain')\n",
        "with open('env_vars.txt', 'r') as file:\n",
        "  for line in file:\n",
        "    key, value = line.strip().split('=')\n",
        "    os.environ[key] = value"
      ]
    },
    {
      "cell_type": "code",
      "source": [
        "!pip install langchain openai"
      ],
      "metadata": {
        "colab": {
          "base_uri": "https://localhost:8080/"
        },
        "id": "5zwF4Jr-lJKM",
        "outputId": "c1dc316b-8384-4e36-d191-6f4933556e23"
      },
      "execution_count": 2,
      "outputs": [
        {
          "output_type": "stream",
          "name": "stdout",
          "text": [
            "Collecting langchain\n",
            "  Downloading langchain-0.0.266-py3-none-any.whl (1.5 MB)\n",
            "\u001b[2K     \u001b[90m━━━━━━━━━━━━━━━━━━━━━━━━━━━━━━━━━━━━━━━━\u001b[0m \u001b[32m1.5/1.5 MB\u001b[0m \u001b[31m8.4 MB/s\u001b[0m eta \u001b[36m0:00:00\u001b[0m\n",
            "\u001b[?25hCollecting openai\n",
            "  Downloading openai-0.27.8-py3-none-any.whl (73 kB)\n",
            "\u001b[2K     \u001b[90m━━━━━━━━━━━━━━━━━━━━━━━━━━━━━━━━━━━━━━━━\u001b[0m \u001b[32m73.6/73.6 kB\u001b[0m \u001b[31m8.6 MB/s\u001b[0m eta \u001b[36m0:00:00\u001b[0m\n",
            "\u001b[?25hRequirement already satisfied: PyYAML>=5.3 in /usr/local/lib/python3.10/dist-packages (from langchain) (6.0.1)\n",
            "Requirement already satisfied: SQLAlchemy<3,>=1.4 in /usr/local/lib/python3.10/dist-packages (from langchain) (2.0.19)\n",
            "Requirement already satisfied: aiohttp<4.0.0,>=3.8.3 in /usr/local/lib/python3.10/dist-packages (from langchain) (3.8.5)\n",
            "Requirement already satisfied: async-timeout<5.0.0,>=4.0.0 in /usr/local/lib/python3.10/dist-packages (from langchain) (4.0.3)\n",
            "Collecting dataclasses-json<0.6.0,>=0.5.7 (from langchain)\n",
            "  Downloading dataclasses_json-0.5.14-py3-none-any.whl (26 kB)\n",
            "Collecting langsmith<0.1.0,>=0.0.21 (from langchain)\n",
            "  Downloading langsmith-0.0.23-py3-none-any.whl (33 kB)\n",
            "Requirement already satisfied: numexpr<3.0.0,>=2.8.4 in /usr/local/lib/python3.10/dist-packages (from langchain) (2.8.5)\n",
            "Requirement already satisfied: numpy<2,>=1 in /usr/local/lib/python3.10/dist-packages (from langchain) (1.23.5)\n",
            "Collecting openapi-schema-pydantic<2.0,>=1.2 (from langchain)\n",
            "  Downloading openapi_schema_pydantic-1.2.4-py3-none-any.whl (90 kB)\n",
            "\u001b[2K     \u001b[90m━━━━━━━━━━━━━━━━━━━━━━━━━━━━━━━━━━━━━━━━\u001b[0m \u001b[32m90.0/90.0 kB\u001b[0m \u001b[31m11.7 MB/s\u001b[0m eta \u001b[36m0:00:00\u001b[0m\n",
            "\u001b[?25hCollecting pydantic<2,>=1 (from langchain)\n",
            "  Downloading pydantic-1.10.12-cp310-cp310-manylinux_2_17_x86_64.manylinux2014_x86_64.whl (3.1 MB)\n",
            "\u001b[2K     \u001b[90m━━━━━━━━━━━━━━━━━━━━━━━━━━━━━━━━━━━━━━━━\u001b[0m \u001b[32m3.1/3.1 MB\u001b[0m \u001b[31m20.6 MB/s\u001b[0m eta \u001b[36m0:00:00\u001b[0m\n",
            "\u001b[?25hRequirement already satisfied: requests<3,>=2 in /usr/local/lib/python3.10/dist-packages (from langchain) (2.31.0)\n",
            "Requirement already satisfied: tenacity<9.0.0,>=8.1.0 in /usr/local/lib/python3.10/dist-packages (from langchain) (8.2.2)\n",
            "Requirement already satisfied: tqdm in /usr/local/lib/python3.10/dist-packages (from openai) (4.66.1)\n",
            "Requirement already satisfied: attrs>=17.3.0 in /usr/local/lib/python3.10/dist-packages (from aiohttp<4.0.0,>=3.8.3->langchain) (23.1.0)\n",
            "Requirement already satisfied: charset-normalizer<4.0,>=2.0 in /usr/local/lib/python3.10/dist-packages (from aiohttp<4.0.0,>=3.8.3->langchain) (3.2.0)\n",
            "Requirement already satisfied: multidict<7.0,>=4.5 in /usr/local/lib/python3.10/dist-packages (from aiohttp<4.0.0,>=3.8.3->langchain) (6.0.4)\n",
            "Requirement already satisfied: yarl<2.0,>=1.0 in /usr/local/lib/python3.10/dist-packages (from aiohttp<4.0.0,>=3.8.3->langchain) (1.9.2)\n",
            "Requirement already satisfied: frozenlist>=1.1.1 in /usr/local/lib/python3.10/dist-packages (from aiohttp<4.0.0,>=3.8.3->langchain) (1.4.0)\n",
            "Requirement already satisfied: aiosignal>=1.1.2 in /usr/local/lib/python3.10/dist-packages (from aiohttp<4.0.0,>=3.8.3->langchain) (1.3.1)\n",
            "Collecting marshmallow<4.0.0,>=3.18.0 (from dataclasses-json<0.6.0,>=0.5.7->langchain)\n",
            "  Downloading marshmallow-3.20.1-py3-none-any.whl (49 kB)\n",
            "\u001b[2K     \u001b[90m━━━━━━━━━━━━━━━━━━━━━━━━━━━━━━━━━━━━━━━━\u001b[0m \u001b[32m49.4/49.4 kB\u001b[0m \u001b[31m5.4 MB/s\u001b[0m eta \u001b[36m0:00:00\u001b[0m\n",
            "\u001b[?25hCollecting typing-inspect<1,>=0.4.0 (from dataclasses-json<0.6.0,>=0.5.7->langchain)\n",
            "  Downloading typing_inspect-0.9.0-py3-none-any.whl (8.8 kB)\n",
            "Requirement already satisfied: typing-extensions>=4.2.0 in /usr/local/lib/python3.10/dist-packages (from pydantic<2,>=1->langchain) (4.7.1)\n",
            "Requirement already satisfied: idna<4,>=2.5 in /usr/local/lib/python3.10/dist-packages (from requests<3,>=2->langchain) (3.4)\n",
            "Requirement already satisfied: urllib3<3,>=1.21.1 in /usr/local/lib/python3.10/dist-packages (from requests<3,>=2->langchain) (2.0.4)\n",
            "Requirement already satisfied: certifi>=2017.4.17 in /usr/local/lib/python3.10/dist-packages (from requests<3,>=2->langchain) (2023.7.22)\n",
            "Requirement already satisfied: greenlet!=0.4.17 in /usr/local/lib/python3.10/dist-packages (from SQLAlchemy<3,>=1.4->langchain) (2.0.2)\n",
            "Requirement already satisfied: packaging>=17.0 in /usr/local/lib/python3.10/dist-packages (from marshmallow<4.0.0,>=3.18.0->dataclasses-json<0.6.0,>=0.5.7->langchain) (23.1)\n",
            "Collecting mypy-extensions>=0.3.0 (from typing-inspect<1,>=0.4.0->dataclasses-json<0.6.0,>=0.5.7->langchain)\n",
            "  Downloading mypy_extensions-1.0.0-py3-none-any.whl (4.7 kB)\n",
            "Installing collected packages: pydantic, mypy-extensions, marshmallow, typing-inspect, openapi-schema-pydantic, langsmith, openai, dataclasses-json, langchain\n",
            "  Attempting uninstall: pydantic\n",
            "    Found existing installation: pydantic 2.1.1\n",
            "    Uninstalling pydantic-2.1.1:\n",
            "      Successfully uninstalled pydantic-2.1.1\n",
            "Successfully installed dataclasses-json-0.5.14 langchain-0.0.266 langsmith-0.0.23 marshmallow-3.20.1 mypy-extensions-1.0.0 openai-0.27.8 openapi-schema-pydantic-1.2.4 pydantic-1.10.12 typing-inspect-0.9.0\n"
          ]
        }
      ]
    },
    {
      "cell_type": "code",
      "source": [
        "!pip install pypdf"
      ],
      "metadata": {
        "colab": {
          "base_uri": "https://localhost:8080/"
        },
        "id": "4y5XUbdxlUbu",
        "outputId": "3b77710d-5c6b-4c73-93ed-9b5d6669081b"
      },
      "execution_count": 4,
      "outputs": [
        {
          "output_type": "stream",
          "name": "stdout",
          "text": [
            "Collecting pypdf\n",
            "  Downloading pypdf-3.15.1-py3-none-any.whl (271 kB)\n",
            "\u001b[?25l     \u001b[90m━━━━━━━━━━━━━━━━━━━━━━━━━━━━━━━━━━━━━━━━\u001b[0m \u001b[32m0.0/271.0 kB\u001b[0m \u001b[31m?\u001b[0m eta \u001b[36m-:--:--\u001b[0m\r\u001b[2K     \u001b[91m━━━━━━━━━━━━━\u001b[0m\u001b[91m╸\u001b[0m\u001b[90m━━━━━━━━━━━━━━━━━━━━━━━━━━\u001b[0m \u001b[32m92.2/271.0 kB\u001b[0m \u001b[31m2.5 MB/s\u001b[0m eta \u001b[36m0:00:01\u001b[0m\r\u001b[2K     \u001b[90m━━━━━━━━━━━━━━━━━━━━━━━━━━━━━━━━━━━━━━━\u001b[0m \u001b[32m271.0/271.0 kB\u001b[0m \u001b[31m3.9 MB/s\u001b[0m eta \u001b[36m0:00:00\u001b[0m\n",
            "\u001b[?25hInstalling collected packages: pypdf\n",
            "Successfully installed pypdf-3.15.1\n"
          ]
        }
      ]
    },
    {
      "cell_type": "markdown",
      "source": [
        "## doc loading"
      ],
      "metadata": {
        "id": "R731Y5aKmwCr"
      }
    },
    {
      "cell_type": "code",
      "source": [
        "from langchain.document_loaders import PyPDFLoader\n",
        "\n",
        "loader = PyPDFLoader(\"ai.pdf\")\n",
        "pages = loader.load_and_split()"
      ],
      "metadata": {
        "id": "_O-idK3Gkx4z"
      },
      "execution_count": 5,
      "outputs": []
    },
    {
      "cell_type": "markdown",
      "source": [
        "## split"
      ],
      "metadata": {
        "id": "xJsiTzYnmyas"
      }
    },
    {
      "cell_type": "code",
      "source": [
        "from langchain.text_splitter import RecursiveCharacterTextSplitter\n",
        "\n",
        "\n",
        "text_splitter = RecursiveCharacterTextSplitter(\n",
        " chunk_size = 500,\n",
        " chunk_overlap = 0\n",
        ")\n",
        "\n",
        "split_documents = text_splitter.split_documents(pages)"
      ],
      "metadata": {
        "id": "mMEHXWfolQIT"
      },
      "execution_count": 7,
      "outputs": []
    },
    {
      "cell_type": "code",
      "source": [
        "split_documents[3]"
      ],
      "metadata": {
        "colab": {
          "base_uri": "https://localhost:8080/"
        },
        "id": "Gp4cEyzWnBdO",
        "outputId": "953402b5-bde7-4673-82c5-845f91891616"
      },
      "execution_count": 16,
      "outputs": [
        {
          "output_type": "execute_result",
          "data": {
            "text/plain": [
              "Document(page_content='2 \\n 推論並且予以解決，但是當時的電腦計算能力有限，一遇到複雜的問題就束手無\\n策，被戲稱為只能解決玩具問題的人工智慧 。 \\n第二個時期（ 1980~1990 年） ：主要是把大量專家的知識輸入電腦中，電\\n腦依照問題判斷答案 ，連續的問題有一個判斷錯誤則得到錯誤的結果，而且知識\\n是無窮無盡的，不可能把所有的知識都輸入電腦，還把所有知識的前後順序都找\\n出來，因此最後變得不實用 。 \\n第三個時期 （ 2000~現今） ：由於半導體技術的進步提升了很大的運算能力，\\n而且半導體成本的下降使用雲端儲存變得便宜 ，使得大量數據的儲存與運算變得\\n容易，提供了人工智慧極佳的發展環境，依照目前整個科技產業的發展，我們不\\n必擔心這一次的人工智慧會有冷卻的一天，相反的，應該擔心人工智慧的過 度發\\n展，會不會有一天對我們造成負面的影響。  \\n \\n（二）人工智慧的技術  \\n \\n1.機器學習  \\n機器學習是可以尋找適合讓電腦做預測或數學模型分類的一種演算方法。這\\n種演算方法主要透過蒐集大量原始數據與標準答案，以訓練資料調整且選擇相應\\n的數學模型，同時並藉由驗證資料比對計算分類結果，來判定模型是否適合用來', metadata={'source': 'ai.pdf', 'page': 2})"
            ]
          },
          "metadata": {},
          "execution_count": 16
        }
      ]
    },
    {
      "cell_type": "markdown",
      "source": [
        "## storage"
      ],
      "metadata": {
        "id": "Q7snfTAUm4WH"
      }
    },
    {
      "cell_type": "code",
      "source": [
        "!pip install chromadb tiktoken"
      ],
      "metadata": {
        "colab": {
          "base_uri": "https://localhost:8080/"
        },
        "id": "5fAQQSH7mibO",
        "outputId": "7c768aae-e8a5-4a52-83e2-55f1e5441c13"
      },
      "execution_count": 13,
      "outputs": [
        {
          "output_type": "stream",
          "name": "stdout",
          "text": [
            "Requirement already satisfied: chromadb in /usr/local/lib/python3.10/dist-packages (0.4.6)\n",
            "Collecting tiktoken\n",
            "  Downloading tiktoken-0.4.0-cp310-cp310-manylinux_2_17_x86_64.manylinux2014_x86_64.whl (1.7 MB)\n",
            "\u001b[2K     \u001b[90m━━━━━━━━━━━━━━━━━━━━━━━━━━━━━━━━━━━━━━━━\u001b[0m \u001b[32m1.7/1.7 MB\u001b[0m \u001b[31m11.4 MB/s\u001b[0m eta \u001b[36m0:00:00\u001b[0m\n",
            "\u001b[?25hRequirement already satisfied: requests>=2.28 in /usr/local/lib/python3.10/dist-packages (from chromadb) (2.31.0)\n",
            "Requirement already satisfied: pydantic<2.0,>=1.9 in /usr/local/lib/python3.10/dist-packages (from chromadb) (1.10.12)\n",
            "Requirement already satisfied: chroma-hnswlib==0.7.2 in /usr/local/lib/python3.10/dist-packages (from chromadb) (0.7.2)\n",
            "Requirement already satisfied: fastapi<0.100.0,>=0.95.2 in /usr/local/lib/python3.10/dist-packages (from chromadb) (0.99.1)\n",
            "Requirement already satisfied: uvicorn[standard]>=0.18.3 in /usr/local/lib/python3.10/dist-packages (from chromadb) (0.23.2)\n",
            "Requirement already satisfied: numpy>=1.21.6 in /usr/local/lib/python3.10/dist-packages (from chromadb) (1.23.5)\n",
            "Requirement already satisfied: posthog>=2.4.0 in /usr/local/lib/python3.10/dist-packages (from chromadb) (3.0.1)\n",
            "Requirement already satisfied: typing-extensions>=4.5.0 in /usr/local/lib/python3.10/dist-packages (from chromadb) (4.7.1)\n",
            "Requirement already satisfied: pulsar-client>=3.1.0 in /usr/local/lib/python3.10/dist-packages (from chromadb) (3.2.0)\n",
            "Requirement already satisfied: onnxruntime>=1.14.1 in /usr/local/lib/python3.10/dist-packages (from chromadb) (1.15.1)\n",
            "Requirement already satisfied: tokenizers>=0.13.2 in /usr/local/lib/python3.10/dist-packages (from chromadb) (0.13.3)\n",
            "Requirement already satisfied: pypika>=0.48.9 in /usr/local/lib/python3.10/dist-packages (from chromadb) (0.48.9)\n",
            "Requirement already satisfied: tqdm>=4.65.0 in /usr/local/lib/python3.10/dist-packages (from chromadb) (4.66.1)\n",
            "Requirement already satisfied: overrides>=7.3.1 in /usr/local/lib/python3.10/dist-packages (from chromadb) (7.4.0)\n",
            "Requirement already satisfied: importlib-resources in /usr/local/lib/python3.10/dist-packages (from chromadb) (6.0.1)\n",
            "Requirement already satisfied: regex>=2022.1.18 in /usr/local/lib/python3.10/dist-packages (from tiktoken) (2023.6.3)\n",
            "Requirement already satisfied: starlette<0.28.0,>=0.27.0 in /usr/local/lib/python3.10/dist-packages (from fastapi<0.100.0,>=0.95.2->chromadb) (0.27.0)\n",
            "Requirement already satisfied: coloredlogs in /usr/local/lib/python3.10/dist-packages (from onnxruntime>=1.14.1->chromadb) (15.0.1)\n",
            "Requirement already satisfied: flatbuffers in /usr/local/lib/python3.10/dist-packages (from onnxruntime>=1.14.1->chromadb) (23.5.26)\n",
            "Requirement already satisfied: packaging in /usr/local/lib/python3.10/dist-packages (from onnxruntime>=1.14.1->chromadb) (23.1)\n",
            "Requirement already satisfied: protobuf in /usr/local/lib/python3.10/dist-packages (from onnxruntime>=1.14.1->chromadb) (3.20.3)\n",
            "Requirement already satisfied: sympy in /usr/local/lib/python3.10/dist-packages (from onnxruntime>=1.14.1->chromadb) (1.12)\n",
            "Requirement already satisfied: six>=1.5 in /usr/local/lib/python3.10/dist-packages (from posthog>=2.4.0->chromadb) (1.16.0)\n",
            "Requirement already satisfied: monotonic>=1.5 in /usr/local/lib/python3.10/dist-packages (from posthog>=2.4.0->chromadb) (1.6)\n",
            "Requirement already satisfied: backoff>=1.10.0 in /usr/local/lib/python3.10/dist-packages (from posthog>=2.4.0->chromadb) (2.2.1)\n",
            "Requirement already satisfied: python-dateutil>2.1 in /usr/local/lib/python3.10/dist-packages (from posthog>=2.4.0->chromadb) (2.8.2)\n",
            "Requirement already satisfied: certifi in /usr/local/lib/python3.10/dist-packages (from pulsar-client>=3.1.0->chromadb) (2023.7.22)\n",
            "Requirement already satisfied: charset-normalizer<4,>=2 in /usr/local/lib/python3.10/dist-packages (from requests>=2.28->chromadb) (3.2.0)\n",
            "Requirement already satisfied: idna<4,>=2.5 in /usr/local/lib/python3.10/dist-packages (from requests>=2.28->chromadb) (3.4)\n",
            "Requirement already satisfied: urllib3<3,>=1.21.1 in /usr/local/lib/python3.10/dist-packages (from requests>=2.28->chromadb) (2.0.4)\n",
            "Requirement already satisfied: click>=7.0 in /usr/local/lib/python3.10/dist-packages (from uvicorn[standard]>=0.18.3->chromadb) (8.1.6)\n",
            "Requirement already satisfied: h11>=0.8 in /usr/local/lib/python3.10/dist-packages (from uvicorn[standard]>=0.18.3->chromadb) (0.14.0)\n",
            "Requirement already satisfied: httptools>=0.5.0 in /usr/local/lib/python3.10/dist-packages (from uvicorn[standard]>=0.18.3->chromadb) (0.6.0)\n",
            "Requirement already satisfied: python-dotenv>=0.13 in /usr/local/lib/python3.10/dist-packages (from uvicorn[standard]>=0.18.3->chromadb) (1.0.0)\n",
            "Requirement already satisfied: pyyaml>=5.1 in /usr/local/lib/python3.10/dist-packages (from uvicorn[standard]>=0.18.3->chromadb) (6.0.1)\n",
            "Requirement already satisfied: uvloop!=0.15.0,!=0.15.1,>=0.14.0 in /usr/local/lib/python3.10/dist-packages (from uvicorn[standard]>=0.18.3->chromadb) (0.17.0)\n",
            "Requirement already satisfied: watchfiles>=0.13 in /usr/local/lib/python3.10/dist-packages (from uvicorn[standard]>=0.18.3->chromadb) (0.19.0)\n",
            "Requirement already satisfied: websockets>=10.4 in /usr/local/lib/python3.10/dist-packages (from uvicorn[standard]>=0.18.3->chromadb) (11.0.3)\n",
            "Requirement already satisfied: anyio<5,>=3.4.0 in /usr/local/lib/python3.10/dist-packages (from starlette<0.28.0,>=0.27.0->fastapi<0.100.0,>=0.95.2->chromadb) (3.7.1)\n",
            "Requirement already satisfied: humanfriendly>=9.1 in /usr/local/lib/python3.10/dist-packages (from coloredlogs->onnxruntime>=1.14.1->chromadb) (10.0)\n",
            "Requirement already satisfied: mpmath>=0.19 in /usr/local/lib/python3.10/dist-packages (from sympy->onnxruntime>=1.14.1->chromadb) (1.3.0)\n",
            "Requirement already satisfied: sniffio>=1.1 in /usr/local/lib/python3.10/dist-packages (from anyio<5,>=3.4.0->starlette<0.28.0,>=0.27.0->fastapi<0.100.0,>=0.95.2->chromadb) (1.3.0)\n",
            "Requirement already satisfied: exceptiongroup in /usr/local/lib/python3.10/dist-packages (from anyio<5,>=3.4.0->starlette<0.28.0,>=0.27.0->fastapi<0.100.0,>=0.95.2->chromadb) (1.1.2)\n",
            "Installing collected packages: tiktoken\n",
            "Successfully installed tiktoken-0.4.0\n"
          ]
        }
      ]
    },
    {
      "cell_type": "code",
      "source": [
        "from langchain.embeddings import OpenAIEmbeddings\n",
        "from langchain.vectorstores import Chroma\n",
        "\n",
        "vectorstore = Chroma.from_documents(documents=split_documents, embedding=OpenAIEmbeddings())"
      ],
      "metadata": {
        "id": "ax3cjIZmmKOb"
      },
      "execution_count": 14,
      "outputs": []
    },
    {
      "cell_type": "code",
      "source": [
        "question = \"Ai 可以用在哪些領域\"\n",
        "docs = vectorstore.similarity_search(question)\n",
        "docs[0]"
      ],
      "metadata": {
        "colab": {
          "base_uri": "https://localhost:8080/"
        },
        "id": "WSzh795OmOOL",
        "outputId": "5e26b572-1509-4c6b-85de-b10b3b0f18d3"
      },
      "execution_count": 18,
      "outputs": [
        {
          "output_type": "execute_result",
          "data": {
            "text/plain": [
              "Document(page_content='領域的應用數量不斷增加，尤其是改善對終端消費者服務。  \\n \\n趨勢二： AI導入醫療保健行業維持高速成長  \\n由於醫療保健行業大量使用大數據及人工智慧，進而精準改善疾病診斷、醫\\n療人員與患者之間人力的不平衡、降低醫療成本、促進跨行業合作關係。此外\\nAI還廣泛應用於臨床試驗、大型醫療計畫、醫療諮詢與宣傳推廣和銷售開發。\\n人工智慧導入醫療保健行業從 2016年到 2022年維持很高成長，預計從 2016\\n年的 6.671億美元達到 2022年的 79.888億美元年均複合增長率為 52.68％。\\n尤其，台灣累積了 20年健保資料，還有正在創建的台灣人體基因資料庫，再加\\n上硬體製造能力等，只要能有效串聯、處理與分析，輔以法規鬆綁、籌建平台與\\n跨領域合作，台灣朝 AI醫療發展將很有機會。  \\n \\n趨勢三： AI取代螢幕成為新 UI / UX介面  圖(四)：自動駕駛車  \\n資料來源： audi', metadata={'page': 5, 'source': 'ai.pdf'})"
            ]
          },
          "metadata": {},
          "execution_count": 18
        }
      ]
    },
    {
      "cell_type": "code",
      "source": [
        "import logging\n",
        "\n",
        "from langchain.chat_models import ChatOpenAI\n",
        "from langchain.retrievers.multi_query import MultiQueryRetriever\n",
        "\n",
        "logging.basicConfig()\n",
        "logging.getLogger('langchain.retrievers.multi_query').setLevel(logging.INFO)\n",
        "\n",
        "retriever_from_llm = MultiQueryRetriever.from_llm(retriever=vectorstore.as_retriever(),\n",
        "                                                  llm=ChatOpenAI(temperature=0))\n",
        "unique_docs = retriever_from_llm.get_relevant_documents(query=question)\n",
        "unique_docs"
      ],
      "metadata": {
        "colab": {
          "base_uri": "https://localhost:8080/"
        },
        "id": "4LCqs7ITnLMl",
        "outputId": "e7f0e783-c390-4a78-ccd1-c45c8e4a4c2d"
      },
      "execution_count": 20,
      "outputs": [
        {
          "output_type": "stream",
          "name": "stderr",
          "text": [
            "INFO:langchain.retrievers.multi_query:Generated queries: ['1. 哪些領域可以應用人工智慧？', '2. 人工智慧在哪些領域有應用價值？', '3. 有哪些領域可以運用到人工智慧技術？']\n"
          ]
        },
        {
          "output_type": "execute_result",
          "data": {
            "text/plain": [
              "[Document(page_content='預測或分類。  \\n \\n2.深度學習  \\n深度學習是機器學習的一種分支，也是目前機器學習發展方向的主流。其概\\n念主要是複合多層複雜結構的人工神經網絡，並將其中函數作多重非線性轉換，\\n使之增加高度抽象化資料、記憶資料影響能力。  \\n \\n3.自然語言處理  \\n自然語言處理又可分為不同的階段，包含：語音或文字辨識、自動分詞與詞\\n性標注、語句生成與文本朗讀等。主要著重如何以電腦處理並運用自然語言，並\\n企圖讓機器「理解」人類的語言，是人工智慧領域裡的其中一項重要分支。  \\n \\n（三）人工智慧的應用  \\n \\n1.溫布頓球賽炒熱氣氛靠 3大AI應用   \\n溫布頓網球賽無疑是全球關注最熱切的的網球公開賽，不只因為最高額獎金\\n或是費德勒等網球天王加持，為了炒熱話題，主辦單位全英草地網球俱樂部還運\\n用了多項 IBM Watson 認知技術來炒熱氣氛，和提高球迷參與度。  IBM一方\\n面用華生探索服務分析過去 22年累積的 5,371萬筆球賽記錄，來找出最能炒熱\\n球賽氣氛的關鍵資訊，其次也利用語意分析追蹤 1,700萬則來自社交媒體的討', metadata={'page': 2, 'source': 'ai.pdf'}),\n",
              " Document(page_content='5 \\n (1)感知：在車輛部署攝像頭、激光雷達、毫米波雷達等傳感器，配合高性\\n能的算法，讓車輛感知周邊環境。  \\n(2)高精度地圖：高精度地圖是實現自動駕駛的必要性技術之一，沒有高精\\n度地圖就沒有安全的自動駕駛基礎。  \\n(3)駕駛決策：在駕駛決策的技術研發中，為人工智慧提供大量運用地方。\\n目的是，讓自動駕駛車輛在面對複雜交通環境時，能夠像人一樣駕駛，擁有人類\\n的一些決策屬性和技巧，同時也要保證安全。  \\n \\n \\n \\n \\n \\n \\n \\n \\n（四）人工智慧未來 趨勢  \\n \\n人工智慧的出現，徹底改變了人類生活的模式，慢慢的由以往的勞力全部替\\n換成機械，許多企業家看準這點，紛紛投資大量的錢，有人預估， 2020年人工\\n智慧在市場營收市值可突破 1000多億美元，而在 2025年，將可以達到 5000\\n多億美元，短短的幾年間就成長了約五倍多 ，下列為人工智慧的八大發展趨勢。 \\n \\n趨勢一： AI 於各行業垂直領域應用具有巨大的潛力  \\n人工智慧市場在零售、交通運輸和自動化、製造業及農業等各行業垂直領域\\n具有巨大的潛力。而驅動市場的主要因素，是人工智慧技術在各種終端用戶垂直', metadata={'page': 5, 'source': 'ai.pdf'}),\n",
              " Document(page_content='題，例如學習、解決問題和模式辨識 ，AI 不再是科幻小說 中虛構的機器人，而\\n真正成為現代高階電腦科學中的現實，以下為目前工智慧 技術發展應用的相關 項\\n目。  \\n會看：圖像識別、文字識別、車牌識別 。 \\n會聽：語音識別、說話人識別、機器翻譯 。 \\n會說：語音合成、人機對話 。 \\n會行動：機器人、自動駕駛汽車、無人機 。 \\n會思考：人機對弈、定理證明、醫療診斷 。 \\n會學習：機器學習、知識表示 。 \\n \\n2.人工智慧的發展  \\n自從人類在1946年發明了第一台電腦，就開始了人工智慧相關的發展 ，到\\n現在已經超過半個世紀，其間經歷過三次時期。  \\n第一個時期（ 1950~1960 年） ：主要是利用電腦針對特定問題進行搜尋與', metadata={'page': 1, 'source': 'ai.pdf'}),\n",
              " Document(page_content='領域的應用數量不斷增加，尤其是改善對終端消費者服務。  \\n \\n趨勢二： AI導入醫療保健行業維持高速成長  \\n由於醫療保健行業大量使用大數據及人工智慧，進而精準改善疾病診斷、醫\\n療人員與患者之間人力的不平衡、降低醫療成本、促進跨行業合作關係。此外\\nAI還廣泛應用於臨床試驗、大型醫療計畫、醫療諮詢與宣傳推廣和銷售開發。\\n人工智慧導入醫療保健行業從 2016年到 2022年維持很高成長，預計從 2016\\n年的 6.671億美元達到 2022年的 79.888億美元年均複合增長率為 52.68％。\\n尤其，台灣累積了 20年健保資料，還有正在創建的台灣人體基因資料庫，再加\\n上硬體製造能力等，只要能有效串聯、處理與分析，輔以法規鬆綁、籌建平台與\\n跨領域合作，台灣朝 AI醫療發展將很有機會。  \\n \\n趨勢三： AI取代螢幕成為新 UI / UX介面  圖(四)：自動駕駛車  \\n資料來源： audi', metadata={'page': 5, 'source': 'ai.pdf'}),\n",
              " Document(page_content='8 \\n 兆美元的商業價值。  \\n \\n除此之外， AI也將快速的改變產業結構，有哪些產業會受到影響呢？根據\\n資誠聯合（ PWC）發表的《全球人工智慧研究報告》指出， AI對產業潛力影響\\n指數，依序為醫療、汽車、金融服務、運輸、物流、技術、通信、娛樂、零售、\\n能源及製造業等區塊，已經創造出有別傳統的產業經營模式。  \\n \\n肆、引註資料  \\n \\n1. 維基百科。2019年3月30日，取自  \\nhttps://zh.wikipedia.org/wiki/%E4%BA%BA%E5%B7%A5%E6%99%BA\\n%E8%83%BD  \\n \\n2.人工智慧產業應用調查 。2017年9月29日，取自  \\nhttps://buzzorange.com/techorange/2017/09/29/mit -21-industry -ai-re\\nsearch -reports/  \\n \\n3.科技新報。2016年11月02日，取自  \\nhttp://technews.tw/2016/11/02/robot -does -not-only -have -three -laws -', metadata={'page': 8, 'source': 'ai.pdf'})]"
            ]
          },
          "metadata": {},
          "execution_count": 20
        }
      ]
    },
    {
      "cell_type": "code",
      "source": [
        "from langchain.chains import RetrievalQA\n",
        "from langchain.chat_models import ChatOpenAI\n",
        "\n",
        "llm = ChatOpenAI(model_name=\"gpt-3.5-turbo\", temperature=0)\n",
        "qa_chain = RetrievalQA.from_chain_type(llm,retriever=vectorstore.as_retriever())\n",
        "qa_chain({\"query\": question})"
      ],
      "metadata": {
        "colab": {
          "base_uri": "https://localhost:8080/"
        },
        "id": "YCHAnRatnUun",
        "outputId": "53a91c88-3ca2-4781-a849-23266dd2ac64"
      },
      "execution_count": 21,
      "outputs": [
        {
          "output_type": "execute_result",
          "data": {
            "text/plain": [
              "{'query': 'Ai 可以用在哪些領域',\n",
              " 'result': 'AI可以應用在許多不同的領域，包括但不限於以下幾個方面：\\n\\n1. 醫療保健：AI可以用於改善疾病診斷、醫療人員與患者之間的溝通，降低醫療成本，並促進跨行業合作關係。\\n\\n2. 農業：AI可以用於農作物生長狀態的分析和監測，自動判斷農作物感染病蟲害病變的情況，提高產能和節省人力。\\n\\n3. 自動駕駛：AI可以應用於自動駕駛技術，使車輛能夠自主行駛和避免碰撞。\\n\\n4. 人力資源管理：AI可以用於人員招募和面試選擇，加快招募作業並提高效率。\\n\\n5. 製造業：AI可以應用於生產流程的監控和優化，提高生產效率和品質。\\n\\n6. 教育：AI可以用於個性化教學和學習輔助，提供定制化的教育內容和學習體驗。\\n\\n7. 客戶服務：AI可以用於提供智能客戶服務和自動化的問題解答，提高客戶滿意度和效率。\\n\\n這只是一些常見的應用領域，隨著技術的不斷發展，AI的應用領域將會不斷擴大。'}"
            ]
          },
          "metadata": {},
          "execution_count": 21
        }
      ]
    },
    {
      "cell_type": "code",
      "source": [
        "import langchain\n",
        "langchain.debug=True"
      ],
      "metadata": {
        "id": "M1sxPEiBnpwf"
      },
      "execution_count": 23,
      "outputs": []
    },
    {
      "cell_type": "code",
      "source": [
        "qa_chain({\"query\": question})"
      ],
      "metadata": {
        "colab": {
          "base_uri": "https://localhost:8080/"
        },
        "id": "TZyvafEAoYNW",
        "outputId": "4527d0d0-d031-44fe-c27f-32b6390e03ed"
      },
      "execution_count": 24,
      "outputs": [
        {
          "output_type": "stream",
          "name": "stdout",
          "text": [
            "\u001b[32;1m\u001b[1;3m[chain/start]\u001b[0m \u001b[1m[1:chain:RetrievalQA] Entering Chain run with input:\n",
            "\u001b[0m{\n",
            "  \"query\": \"Ai 可以用在哪些領域\"\n",
            "}\n",
            "\u001b[32;1m\u001b[1;3m[chain/start]\u001b[0m \u001b[1m[1:chain:RetrievalQA > 3:chain:StuffDocumentsChain] Entering Chain run with input:\n",
            "\u001b[0m[inputs]\n",
            "\u001b[32;1m\u001b[1;3m[chain/start]\u001b[0m \u001b[1m[1:chain:RetrievalQA > 3:chain:StuffDocumentsChain > 4:chain:LLMChain] Entering Chain run with input:\n",
            "\u001b[0m{\n",
            "  \"question\": \"Ai 可以用在哪些領域\",\n",
            "  \"context\": \"領域的應用數量不斷增加，尤其是改善對終端消費者服務。  \\n \\n趨勢二： AI導入醫療保健行業維持高速成長  \\n由於醫療保健行業大量使用大數據及人工智慧，進而精準改善疾病診斷、醫\\n療人員與患者之間人力的不平衡、降低醫療成本、促進跨行業合作關係。此外\\nAI還廣泛應用於臨床試驗、大型醫療計畫、醫療諮詢與宣傳推廣和銷售開發。\\n人工智慧導入醫療保健行業從 2016年到 2022年維持很高成長，預計從 2016\\n年的 6.671億美元達到 2022年的 79.888億美元年均複合增長率為 52.68％。\\n尤其，台灣累積了 20年健保資料，還有正在創建的台灣人體基因資料庫，再加\\n上硬體製造能力等，只要能有效串聯、處理與分析，輔以法規鬆綁、籌建平台與\\n跨領域合作，台灣朝 AI醫療發展將很有機會。  \\n \\n趨勢三： AI取代螢幕成為新 UI / UX介面  圖(四)：自動駕駛車  \\n資料來源： audi\\n\\n術分析生長狀態 ，自動判斷農作物感染病蟲害病變的情況 若遇到有生長不良或病\\n蟲害時，會自動移除 ，生產全程全部都用 AI辨識技術來監控，取代過去用人眼\\n辨識的作法。若未來更大規模使用這樣的技術時，則可在更小的面積種植出更多\\n蔬菜，大幅提高產能及節省人力，同時可就近提供食物給附近的城市，減少碳足\\n跡。不過話說回來，這項系統目前僅適用室內溫室，而且系統的建 置成本也不算\\n低。  \\n \\n7.AI自動駕駛  \\n談到 AI人工智慧中的自動駕 駛，一定要先認識 Mobileye這家坐擁全球最\\n高級輔助駕駛系統的公司，而 Mobileye主要結合下列三項關鍵技術才得以實驗\\n自動駕駛。  \\n 圖(三)：HireVue  app \\n資料來源： App Store\\n\\n4 \\n 5.聯合利華靠 AI加速從 25萬份履歷找到合格員工  \\n旗下擁有立頓、白蘭、康寶等品牌的跨國日用品製造商聯合利華，為了加快\\n人員招募作業，從去年 6月開始，採用 AI技術來輔助新人召募作業。聯合利華\\n要從全球 68個國家，涵蓋 15種語言的 25萬份應徵履歷中，找出合格的人選。  \\n主要利用了 HireVue這套視訊面試 App，讓面試者直接對鏡頭回答一系列\\n的問題，而非即時面談。再用 AI技術辨識面試者答題時的臉部表情、瞳孔變化\\n等非口語特徵，來判斷面試者對問題的真實感受，並搭配性向測驗遊戲及面試者\\nLinkedIn帳號分析結果，自動產生一份候選者清單供面試官參考，決定是否錄\\n取或面談，來加快招募作業。  \\n \\n \\n \\n \\n \\n \\n \\n \\n \\n \\n \\n6.AI也能種菜  \\n日本一家農產公司 SAC iWATA，利用 IoT、雲端技術和 AI來種植蔬果，特\\n別種植高單價的羽衣甘藍和番茄等農作。提供技術的富士通打造了一款自動監測\\n車，裝上紫外線 LED照明，搭配視訊監控攝影機，能夠在溫室內部走道移動，\\n拍攝植物生長情況， 如水量、施肥情況、土壤溫度、濕度等 ，再利用影像辨識技\\n\\nAI晶片的核心是半導體及演算法。 AI硬體主要是要求更快運算速度與低功\\n耗，包括 GPU、DSP、ASIC、FPGA和神經元晶片，且須與深度學習演算法相\\n結合，而成功相結合的關鍵在於先進的封裝技術。總體來說 GPU比FPGA快，\\n而在功率效能方面 FPGA比GPU好，所以 AI硬體選擇就看產品供應商的需求\\n考量而定。例如，蘋果的 Face ID臉部辨識就是 3D深度感測晶片加上神經引擎\\n運算功能，整合高達 8個元件進行分析，分別是紅外線鏡頭、泛光感應元件、距\\n離感應器、環境光感測器、前端相機、點陣投影器、喇叭與麥克風。蘋果強調用\\n戶的生物識別數據，包含：指紋或臉部辨識都以加密形式儲存在 iPhone內部，\\n所以不易被竊取。  \\n \\n趨勢六： AI自主學習是終極目標  \\nAI“大腦”變聰明是分階段進行，從機器學習進化到深度學習，再進化至自\\n主學習。目前，仍處於機器學習及深度學習的階段，若要達到自主學習需要解決\\n四大關鍵問題。首先，是為自主機器打造一個 AI平台；還要提供一個能夠讓自\\n主機器進行自主學習的虛擬環境，必須符合物理法則，碰撞，壓力，效果都要與\"\n",
            "}\n",
            "\u001b[32;1m\u001b[1;3m[llm/start]\u001b[0m \u001b[1m[1:chain:RetrievalQA > 3:chain:StuffDocumentsChain > 4:chain:LLMChain > 5:llm:ChatOpenAI] Entering LLM run with input:\n",
            "\u001b[0m{\n",
            "  \"prompts\": [\n",
            "    \"System: Use the following pieces of context to answer the users question. \\nIf you don't know the answer, just say that you don't know, don't try to make up an answer.\\n----------------\\n領域的應用數量不斷增加，尤其是改善對終端消費者服務。  \\n \\n趨勢二： AI導入醫療保健行業維持高速成長  \\n由於醫療保健行業大量使用大數據及人工智慧，進而精準改善疾病診斷、醫\\n療人員與患者之間人力的不平衡、降低醫療成本、促進跨行業合作關係。此外\\nAI還廣泛應用於臨床試驗、大型醫療計畫、醫療諮詢與宣傳推廣和銷售開發。\\n人工智慧導入醫療保健行業從 2016年到 2022年維持很高成長，預計從 2016\\n年的 6.671億美元達到 2022年的 79.888億美元年均複合增長率為 52.68％。\\n尤其，台灣累積了 20年健保資料，還有正在創建的台灣人體基因資料庫，再加\\n上硬體製造能力等，只要能有效串聯、處理與分析，輔以法規鬆綁、籌建平台與\\n跨領域合作，台灣朝 AI醫療發展將很有機會。  \\n \\n趨勢三： AI取代螢幕成為新 UI / UX介面  圖(四)：自動駕駛車  \\n資料來源： audi\\n\\n術分析生長狀態 ，自動判斷農作物感染病蟲害病變的情況 若遇到有生長不良或病\\n蟲害時，會自動移除 ，生產全程全部都用 AI辨識技術來監控，取代過去用人眼\\n辨識的作法。若未來更大規模使用這樣的技術時，則可在更小的面積種植出更多\\n蔬菜，大幅提高產能及節省人力，同時可就近提供食物給附近的城市，減少碳足\\n跡。不過話說回來，這項系統目前僅適用室內溫室，而且系統的建 置成本也不算\\n低。  \\n \\n7.AI自動駕駛  \\n談到 AI人工智慧中的自動駕 駛，一定要先認識 Mobileye這家坐擁全球最\\n高級輔助駕駛系統的公司，而 Mobileye主要結合下列三項關鍵技術才得以實驗\\n自動駕駛。  \\n 圖(三)：HireVue  app \\n資料來源： App Store\\n\\n4 \\n 5.聯合利華靠 AI加速從 25萬份履歷找到合格員工  \\n旗下擁有立頓、白蘭、康寶等品牌的跨國日用品製造商聯合利華，為了加快\\n人員招募作業，從去年 6月開始，採用 AI技術來輔助新人召募作業。聯合利華\\n要從全球 68個國家，涵蓋 15種語言的 25萬份應徵履歷中，找出合格的人選。  \\n主要利用了 HireVue這套視訊面試 App，讓面試者直接對鏡頭回答一系列\\n的問題，而非即時面談。再用 AI技術辨識面試者答題時的臉部表情、瞳孔變化\\n等非口語特徵，來判斷面試者對問題的真實感受，並搭配性向測驗遊戲及面試者\\nLinkedIn帳號分析結果，自動產生一份候選者清單供面試官參考，決定是否錄\\n取或面談，來加快招募作業。  \\n \\n \\n \\n \\n \\n \\n \\n \\n \\n \\n \\n6.AI也能種菜  \\n日本一家農產公司 SAC iWATA，利用 IoT、雲端技術和 AI來種植蔬果，特\\n別種植高單價的羽衣甘藍和番茄等農作。提供技術的富士通打造了一款自動監測\\n車，裝上紫外線 LED照明，搭配視訊監控攝影機，能夠在溫室內部走道移動，\\n拍攝植物生長情況， 如水量、施肥情況、土壤溫度、濕度等 ，再利用影像辨識技\\n\\nAI晶片的核心是半導體及演算法。 AI硬體主要是要求更快運算速度與低功\\n耗，包括 GPU、DSP、ASIC、FPGA和神經元晶片，且須與深度學習演算法相\\n結合，而成功相結合的關鍵在於先進的封裝技術。總體來說 GPU比FPGA快，\\n而在功率效能方面 FPGA比GPU好，所以 AI硬體選擇就看產品供應商的需求\\n考量而定。例如，蘋果的 Face ID臉部辨識就是 3D深度感測晶片加上神經引擎\\n運算功能，整合高達 8個元件進行分析，分別是紅外線鏡頭、泛光感應元件、距\\n離感應器、環境光感測器、前端相機、點陣投影器、喇叭與麥克風。蘋果強調用\\n戶的生物識別數據，包含：指紋或臉部辨識都以加密形式儲存在 iPhone內部，\\n所以不易被竊取。  \\n \\n趨勢六： AI自主學習是終極目標  \\nAI“大腦”變聰明是分階段進行，從機器學習進化到深度學習，再進化至自\\n主學習。目前，仍處於機器學習及深度學習的階段，若要達到自主學習需要解決\\n四大關鍵問題。首先，是為自主機器打造一個 AI平台；還要提供一個能夠讓自\\n主機器進行自主學習的虛擬環境，必須符合物理法則，碰撞，壓力，效果都要與\\nHuman: Ai 可以用在哪些領域\"\n",
            "  ]\n",
            "}\n",
            "\u001b[36;1m\u001b[1;3m[llm/end]\u001b[0m \u001b[1m[1:chain:RetrievalQA > 3:chain:StuffDocumentsChain > 4:chain:LLMChain > 5:llm:ChatOpenAI] [15.29s] Exiting LLM run with output:\n",
            "\u001b[0m{\n",
            "  \"generations\": [\n",
            "    [\n",
            "      {\n",
            "        \"text\": \"AI可以應用在許多不同的領域，包括但不限於以下幾個方面：\\n\\n1. 醫療保健：AI可以用於改善疾病診斷、醫療人員與患者之間的溝通，降低醫療成本，並促進跨行業合作關係。\\n\\n2. 農業：AI可以用於農作物生長狀態的分析和監測，自動判斷農作物感染病蟲害病變的情況，提高產能和節省人力。\\n\\n3. 自動駕駛：AI可以應用於自動駕駛技術，使車輛能夠自主行駛和避免碰撞。\\n\\n4. 人力資源管理：AI可以用於人員招募和面試選擇，加快招募作業並提高效率。\\n\\n5. 製造業：AI可以應用於生產流程的監控和優化，提高生產效率和品質。\\n\\n6. 教育：AI可以用於個性化教學和學習輔助，提供定制化的教育內容和學習體驗。\\n\\n7. 客戶服務：AI可以用於提供智能客戶服務和虛擬助手，提高客戶滿意度和忠誠度。\\n\\n這只是一些常見的應用領域，隨著技術的不斷發展，AI的應用領域將會不斷擴大。\",\n",
            "        \"generation_info\": {\n",
            "          \"finish_reason\": \"stop\"\n",
            "        },\n",
            "        \"message\": {\n",
            "          \"lc\": 1,\n",
            "          \"type\": \"constructor\",\n",
            "          \"id\": [\n",
            "            \"langchain\",\n",
            "            \"schema\",\n",
            "            \"messages\",\n",
            "            \"AIMessage\"\n",
            "          ],\n",
            "          \"kwargs\": {\n",
            "            \"content\": \"AI可以應用在許多不同的領域，包括但不限於以下幾個方面：\\n\\n1. 醫療保健：AI可以用於改善疾病診斷、醫療人員與患者之間的溝通，降低醫療成本，並促進跨行業合作關係。\\n\\n2. 農業：AI可以用於農作物生長狀態的分析和監測，自動判斷農作物感染病蟲害病變的情況，提高產能和節省人力。\\n\\n3. 自動駕駛：AI可以應用於自動駕駛技術，使車輛能夠自主行駛和避免碰撞。\\n\\n4. 人力資源管理：AI可以用於人員招募和面試選擇，加快招募作業並提高效率。\\n\\n5. 製造業：AI可以應用於生產流程的監控和優化，提高生產效率和品質。\\n\\n6. 教育：AI可以用於個性化教學和學習輔助，提供定制化的教育內容和學習體驗。\\n\\n7. 客戶服務：AI可以用於提供智能客戶服務和虛擬助手，提高客戶滿意度和忠誠度。\\n\\n這只是一些常見的應用領域，隨著技術的不斷發展，AI的應用領域將會不斷擴大。\",\n",
            "            \"additional_kwargs\": {}\n",
            "          }\n",
            "        }\n",
            "      }\n",
            "    ]\n",
            "  ],\n",
            "  \"llm_output\": {\n",
            "    \"token_usage\": {\n",
            "      \"prompt_tokens\": 2234,\n",
            "      \"completion_tokens\": 508,\n",
            "      \"total_tokens\": 2742\n",
            "    },\n",
            "    \"model_name\": \"gpt-3.5-turbo\"\n",
            "  },\n",
            "  \"run\": null\n",
            "}\n",
            "\u001b[36;1m\u001b[1;3m[chain/end]\u001b[0m \u001b[1m[1:chain:RetrievalQA > 3:chain:StuffDocumentsChain > 4:chain:LLMChain] [15.29s] Exiting Chain run with output:\n",
            "\u001b[0m{\n",
            "  \"text\": \"AI可以應用在許多不同的領域，包括但不限於以下幾個方面：\\n\\n1. 醫療保健：AI可以用於改善疾病診斷、醫療人員與患者之間的溝通，降低醫療成本，並促進跨行業合作關係。\\n\\n2. 農業：AI可以用於農作物生長狀態的分析和監測，自動判斷農作物感染病蟲害病變的情況，提高產能和節省人力。\\n\\n3. 自動駕駛：AI可以應用於自動駕駛技術，使車輛能夠自主行駛和避免碰撞。\\n\\n4. 人力資源管理：AI可以用於人員招募和面試選擇，加快招募作業並提高效率。\\n\\n5. 製造業：AI可以應用於生產流程的監控和優化，提高生產效率和品質。\\n\\n6. 教育：AI可以用於個性化教學和學習輔助，提供定制化的教育內容和學習體驗。\\n\\n7. 客戶服務：AI可以用於提供智能客戶服務和虛擬助手，提高客戶滿意度和忠誠度。\\n\\n這只是一些常見的應用領域，隨著技術的不斷發展，AI的應用領域將會不斷擴大。\"\n",
            "}\n",
            "\u001b[36;1m\u001b[1;3m[chain/end]\u001b[0m \u001b[1m[1:chain:RetrievalQA > 3:chain:StuffDocumentsChain] [15.29s] Exiting Chain run with output:\n",
            "\u001b[0m{\n",
            "  \"output_text\": \"AI可以應用在許多不同的領域，包括但不限於以下幾個方面：\\n\\n1. 醫療保健：AI可以用於改善疾病診斷、醫療人員與患者之間的溝通，降低醫療成本，並促進跨行業合作關係。\\n\\n2. 農業：AI可以用於農作物生長狀態的分析和監測，自動判斷農作物感染病蟲害病變的情況，提高產能和節省人力。\\n\\n3. 自動駕駛：AI可以應用於自動駕駛技術，使車輛能夠自主行駛和避免碰撞。\\n\\n4. 人力資源管理：AI可以用於人員招募和面試選擇，加快招募作業並提高效率。\\n\\n5. 製造業：AI可以應用於生產流程的監控和優化，提高生產效率和品質。\\n\\n6. 教育：AI可以用於個性化教學和學習輔助，提供定制化的教育內容和學習體驗。\\n\\n7. 客戶服務：AI可以用於提供智能客戶服務和虛擬助手，提高客戶滿意度和忠誠度。\\n\\n這只是一些常見的應用領域，隨著技術的不斷發展，AI的應用領域將會不斷擴大。\"\n",
            "}\n",
            "\u001b[36;1m\u001b[1;3m[chain/end]\u001b[0m \u001b[1m[1:chain:RetrievalQA] [15.60s] Exiting Chain run with output:\n",
            "\u001b[0m{\n",
            "  \"result\": \"AI可以應用在許多不同的領域，包括但不限於以下幾個方面：\\n\\n1. 醫療保健：AI可以用於改善疾病診斷、醫療人員與患者之間的溝通，降低醫療成本，並促進跨行業合作關係。\\n\\n2. 農業：AI可以用於農作物生長狀態的分析和監測，自動判斷農作物感染病蟲害病變的情況，提高產能和節省人力。\\n\\n3. 自動駕駛：AI可以應用於自動駕駛技術，使車輛能夠自主行駛和避免碰撞。\\n\\n4. 人力資源管理：AI可以用於人員招募和面試選擇，加快招募作業並提高效率。\\n\\n5. 製造業：AI可以應用於生產流程的監控和優化，提高生產效率和品質。\\n\\n6. 教育：AI可以用於個性化教學和學習輔助，提供定制化的教育內容和學習體驗。\\n\\n7. 客戶服務：AI可以用於提供智能客戶服務和虛擬助手，提高客戶滿意度和忠誠度。\\n\\n這只是一些常見的應用領域，隨著技術的不斷發展，AI的應用領域將會不斷擴大。\"\n",
            "}\n"
          ]
        },
        {
          "output_type": "execute_result",
          "data": {
            "text/plain": [
              "{'query': 'Ai 可以用在哪些領域',\n",
              " 'result': 'AI可以應用在許多不同的領域，包括但不限於以下幾個方面：\\n\\n1. 醫療保健：AI可以用於改善疾病診斷、醫療人員與患者之間的溝通，降低醫療成本，並促進跨行業合作關係。\\n\\n2. 農業：AI可以用於農作物生長狀態的分析和監測，自動判斷農作物感染病蟲害病變的情況，提高產能和節省人力。\\n\\n3. 自動駕駛：AI可以應用於自動駕駛技術，使車輛能夠自主行駛和避免碰撞。\\n\\n4. 人力資源管理：AI可以用於人員招募和面試選擇，加快招募作業並提高效率。\\n\\n5. 製造業：AI可以應用於生產流程的監控和優化，提高生產效率和品質。\\n\\n6. 教育：AI可以用於個性化教學和學習輔助，提供定制化的教育內容和學習體驗。\\n\\n7. 客戶服務：AI可以用於提供智能客戶服務和虛擬助手，提高客戶滿意度和忠誠度。\\n\\n這只是一些常見的應用領域，隨著技術的不斷發展，AI的應用領域將會不斷擴大。'}"
            ]
          },
          "metadata": {},
          "execution_count": 24
        }
      ]
    },
    {
      "cell_type": "code",
      "source": [],
      "metadata": {
        "id": "UknbLXqSocwJ"
      },
      "execution_count": null,
      "outputs": []
    }
  ]
}