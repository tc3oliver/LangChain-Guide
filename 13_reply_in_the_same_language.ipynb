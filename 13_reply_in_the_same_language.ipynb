{
  "nbformat": 4,
  "nbformat_minor": 0,
  "metadata": {
    "colab": {
      "provenance": [],
      "history_visible": true,
      "authorship_tag": "ABX9TyMqkRt3dQ2rDq0awH4JX4td",
      "include_colab_link": true
    },
    "kernelspec": {
      "name": "python3",
      "display_name": "Python 3"
    },
    "language_info": {
      "name": "python"
    }
  },
  "cells": [
    {
      "cell_type": "markdown",
      "metadata": {
        "id": "view-in-github",
        "colab_type": "text"
      },
      "source": [
        "<a href=\"https://colab.research.google.com/github/tc3oliver/LangChain-Guide/blob/dev/13_reply_in_the_same_language.ipynb\" target=\"_parent\"><img src=\"https://colab.research.google.com/assets/colab-badge.svg\" alt=\"Open In Colab\"/></a>"
      ]
    },
    {
      "cell_type": "code",
      "execution_count": 1,
      "metadata": {
        "colab": {
          "base_uri": "https://localhost:8080/"
        },
        "id": "lyGxZdZAkleD",
        "outputId": "e25995cf-f502-48ca-95c4-9d8c226e8d13"
      },
      "outputs": [
        {
          "output_type": "stream",
          "name": "stdout",
          "text": [
            "\u001b[?25l     \u001b[90m━━━━━━━━━━━━━━━━━━━━━━━━━━━━━━━━━━━━━━━━\u001b[0m \u001b[32m0.0/75.4 kB\u001b[0m \u001b[31m?\u001b[0m eta \u001b[36m-:--:--\u001b[0m\r\u001b[2K     \u001b[90m━━━━━━━━━━━━━━━━━━━━━━━━━━━━━━━━━━━━━━━━\u001b[0m \u001b[32m75.4/75.4 kB\u001b[0m \u001b[31m3.3 MB/s\u001b[0m eta \u001b[36m0:00:00\u001b[0m\n",
            "\u001b[?25h\u001b[?25l     \u001b[90m━━━━━━━━━━━━━━━━━━━━━━━━━━━━━━━━━━━━━━━━\u001b[0m \u001b[32m0.0/74.5 kB\u001b[0m \u001b[31m?\u001b[0m eta \u001b[36m-:--:--\u001b[0m\r\u001b[2K     \u001b[90m━━━━━━━━━━━━━━━━━━━━━━━━━━━━━━━━━━━━━━━━\u001b[0m \u001b[32m74.5/74.5 kB\u001b[0m \u001b[31m7.2 MB/s\u001b[0m eta \u001b[36m0:00:00\u001b[0m\n",
            "\u001b[2K     \u001b[90m━━━━━━━━━━━━━━━━━━━━━━━━━━━━━━━━━━━━━━━━\u001b[0m \u001b[32m57.5/57.5 kB\u001b[0m \u001b[31m5.9 MB/s\u001b[0m eta \u001b[36m0:00:00\u001b[0m\n",
            "\u001b[2K     \u001b[90m━━━━━━━━━━━━━━━━━━━━━━━━━━━━━━━━━━━━━━━━\u001b[0m \u001b[32m2.7/2.7 MB\u001b[0m \u001b[31m68.0 MB/s\u001b[0m eta \u001b[36m0:00:00\u001b[0m\n",
            "\u001b[2K     \u001b[90m━━━━━━━━━━━━━━━━━━━━━━━━━━━━━━━━━━━━━━━━\u001b[0m \u001b[32m58.3/58.3 kB\u001b[0m \u001b[31m5.3 MB/s\u001b[0m eta \u001b[36m0:00:00\u001b[0m\n",
            "\u001b[?25h"
          ]
        }
      ],
      "source": [
        "!pip install -q -U duckduckgo-search"
      ]
    },
    {
      "cell_type": "code",
      "source": [
        "!pip install langchain openai"
      ],
      "metadata": {
        "colab": {
          "base_uri": "https://localhost:8080/"
        },
        "id": "dRozhlmYlAtb",
        "outputId": "7cf09a7f-168f-40ac-daca-4b8886f9ef0f"
      },
      "execution_count": 2,
      "outputs": [
        {
          "output_type": "stream",
          "name": "stdout",
          "text": [
            "Collecting langchain\n",
            "  Downloading langchain-0.0.263-py3-none-any.whl (1.5 MB)\n",
            "\u001b[?25l     \u001b[90m━━━━━━━━━━━━━━━━━━━━━━━━━━━━━━━━━━━━━━━━\u001b[0m \u001b[32m0.0/1.5 MB\u001b[0m \u001b[31m?\u001b[0m eta \u001b[36m-:--:--\u001b[0m\r\u001b[2K     \u001b[91m━━━━━━━━━━━━━━━━━━━━━━━━━\u001b[0m\u001b[91m╸\u001b[0m\u001b[90m━━━━━━━━━━━━━━\u001b[0m \u001b[32m1.0/1.5 MB\u001b[0m \u001b[31m28.7 MB/s\u001b[0m eta \u001b[36m0:00:01\u001b[0m\r\u001b[2K     \u001b[90m━━━━━━━━━━━━━━━━━━━━━━━━━━━━━━━━━━━━━━━━\u001b[0m \u001b[32m1.5/1.5 MB\u001b[0m \u001b[31m29.0 MB/s\u001b[0m eta \u001b[36m0:00:00\u001b[0m\n",
            "\u001b[?25hCollecting openai\n",
            "  Downloading openai-0.27.8-py3-none-any.whl (73 kB)\n",
            "\u001b[2K     \u001b[90m━━━━━━━━━━━━━━━━━━━━━━━━━━━━━━━━━━━━━━━━\u001b[0m \u001b[32m73.6/73.6 kB\u001b[0m \u001b[31m8.6 MB/s\u001b[0m eta \u001b[36m0:00:00\u001b[0m\n",
            "\u001b[?25hRequirement already satisfied: PyYAML>=5.3 in /usr/local/lib/python3.10/dist-packages (from langchain) (6.0.1)\n",
            "Requirement already satisfied: SQLAlchemy<3,>=1.4 in /usr/local/lib/python3.10/dist-packages (from langchain) (2.0.19)\n",
            "Requirement already satisfied: aiohttp<4.0.0,>=3.8.3 in /usr/local/lib/python3.10/dist-packages (from langchain) (3.8.5)\n",
            "Requirement already satisfied: async-timeout<5.0.0,>=4.0.0 in /usr/local/lib/python3.10/dist-packages (from langchain) (4.0.2)\n",
            "Collecting dataclasses-json<0.6.0,>=0.5.7 (from langchain)\n",
            "  Downloading dataclasses_json-0.5.14-py3-none-any.whl (26 kB)\n",
            "Collecting langsmith<0.1.0,>=0.0.11 (from langchain)\n",
            "  Downloading langsmith-0.0.22-py3-none-any.whl (32 kB)\n",
            "Requirement already satisfied: numexpr<3.0.0,>=2.8.4 in /usr/local/lib/python3.10/dist-packages (from langchain) (2.8.5)\n",
            "Requirement already satisfied: numpy<2,>=1 in /usr/local/lib/python3.10/dist-packages (from langchain) (1.23.5)\n",
            "Collecting openapi-schema-pydantic<2.0,>=1.2 (from langchain)\n",
            "  Downloading openapi_schema_pydantic-1.2.4-py3-none-any.whl (90 kB)\n",
            "\u001b[2K     \u001b[90m━━━━━━━━━━━━━━━━━━━━━━━━━━━━━━━━━━━━━━━━\u001b[0m \u001b[32m90.0/90.0 kB\u001b[0m \u001b[31m11.3 MB/s\u001b[0m eta \u001b[36m0:00:00\u001b[0m\n",
            "\u001b[?25hCollecting pydantic<2,>=1 (from langchain)\n",
            "  Downloading pydantic-1.10.12-cp310-cp310-manylinux_2_17_x86_64.manylinux2014_x86_64.whl (3.1 MB)\n",
            "\u001b[2K     \u001b[90m━━━━━━━━━━━━━━━━━━━━━━━━━━━━━━━━━━━━━━━━\u001b[0m \u001b[32m3.1/3.1 MB\u001b[0m \u001b[31m74.8 MB/s\u001b[0m eta \u001b[36m0:00:00\u001b[0m\n",
            "\u001b[?25hRequirement already satisfied: requests<3,>=2 in /usr/local/lib/python3.10/dist-packages (from langchain) (2.31.0)\n",
            "Requirement already satisfied: tenacity<9.0.0,>=8.1.0 in /usr/local/lib/python3.10/dist-packages (from langchain) (8.2.2)\n",
            "Requirement already satisfied: tqdm in /usr/local/lib/python3.10/dist-packages (from openai) (4.66.0)\n",
            "Requirement already satisfied: attrs>=17.3.0 in /usr/local/lib/python3.10/dist-packages (from aiohttp<4.0.0,>=3.8.3->langchain) (23.1.0)\n",
            "Requirement already satisfied: charset-normalizer<4.0,>=2.0 in /usr/local/lib/python3.10/dist-packages (from aiohttp<4.0.0,>=3.8.3->langchain) (3.2.0)\n",
            "Requirement already satisfied: multidict<7.0,>=4.5 in /usr/local/lib/python3.10/dist-packages (from aiohttp<4.0.0,>=3.8.3->langchain) (6.0.4)\n",
            "Requirement already satisfied: yarl<2.0,>=1.0 in /usr/local/lib/python3.10/dist-packages (from aiohttp<4.0.0,>=3.8.3->langchain) (1.9.2)\n",
            "Requirement already satisfied: frozenlist>=1.1.1 in /usr/local/lib/python3.10/dist-packages (from aiohttp<4.0.0,>=3.8.3->langchain) (1.4.0)\n",
            "Requirement already satisfied: aiosignal>=1.1.2 in /usr/local/lib/python3.10/dist-packages (from aiohttp<4.0.0,>=3.8.3->langchain) (1.3.1)\n",
            "Collecting marshmallow<4.0.0,>=3.18.0 (from dataclasses-json<0.6.0,>=0.5.7->langchain)\n",
            "  Downloading marshmallow-3.20.1-py3-none-any.whl (49 kB)\n",
            "\u001b[2K     \u001b[90m━━━━━━━━━━━━━━━━━━━━━━━━━━━━━━━━━━━━━━━━\u001b[0m \u001b[32m49.4/49.4 kB\u001b[0m \u001b[31m5.9 MB/s\u001b[0m eta \u001b[36m0:00:00\u001b[0m\n",
            "\u001b[?25hCollecting typing-inspect<1,>=0.4.0 (from dataclasses-json<0.6.0,>=0.5.7->langchain)\n",
            "  Downloading typing_inspect-0.9.0-py3-none-any.whl (8.8 kB)\n",
            "Requirement already satisfied: typing-extensions>=4.2.0 in /usr/local/lib/python3.10/dist-packages (from pydantic<2,>=1->langchain) (4.7.1)\n",
            "Requirement already satisfied: idna<4,>=2.5 in /usr/local/lib/python3.10/dist-packages (from requests<3,>=2->langchain) (3.4)\n",
            "Requirement already satisfied: urllib3<3,>=1.21.1 in /usr/local/lib/python3.10/dist-packages (from requests<3,>=2->langchain) (2.0.4)\n",
            "Requirement already satisfied: certifi>=2017.4.17 in /usr/local/lib/python3.10/dist-packages (from requests<3,>=2->langchain) (2023.7.22)\n",
            "Requirement already satisfied: greenlet!=0.4.17 in /usr/local/lib/python3.10/dist-packages (from SQLAlchemy<3,>=1.4->langchain) (2.0.2)\n",
            "Requirement already satisfied: packaging>=17.0 in /usr/local/lib/python3.10/dist-packages (from marshmallow<4.0.0,>=3.18.0->dataclasses-json<0.6.0,>=0.5.7->langchain) (23.1)\n",
            "Collecting mypy-extensions>=0.3.0 (from typing-inspect<1,>=0.4.0->dataclasses-json<0.6.0,>=0.5.7->langchain)\n",
            "  Downloading mypy_extensions-1.0.0-py3-none-any.whl (4.7 kB)\n",
            "Installing collected packages: pydantic, mypy-extensions, marshmallow, typing-inspect, openapi-schema-pydantic, langsmith, openai, dataclasses-json, langchain\n",
            "  Attempting uninstall: pydantic\n",
            "    Found existing installation: pydantic 2.1.1\n",
            "    Uninstalling pydantic-2.1.1:\n",
            "      Successfully uninstalled pydantic-2.1.1\n",
            "Successfully installed dataclasses-json-0.5.14 langchain-0.0.263 langsmith-0.0.22 marshmallow-3.20.1 mypy-extensions-1.0.0 openai-0.27.8 openapi-schema-pydantic-1.2.4 pydantic-1.10.12 typing-inspect-0.9.0\n"
          ]
        }
      ]
    },
    {
      "cell_type": "code",
      "source": [
        "from langchain.tools import DuckDuckGoSearchRun\n",
        "\n",
        "search = DuckDuckGoSearchRun()\n",
        "search.run(\"2023 台灣有什麼大事\")"
      ],
      "metadata": {
        "colab": {
          "base_uri": "https://localhost:8080/",
          "height": 296
        },
        "id": "H7T3nTl0kvtN",
        "outputId": "d61821c0-c37f-438b-b1f9-6d140415ad2c"
      },
      "execution_count": 3,
      "outputs": [
        {
          "output_type": "execute_result",
          "data": {
            "text/plain": [
              "'大事記 2023年臺灣 ： 1月 - 2月 - 3月 - 4月 - 5月 - 6月 - 7月 - 8月 - 9月 - 10月 - 11月 - 12月 1月 1月8日： 2023年臺北市第三選舉區立法委員缺額補選 進行投票，由 中國國民黨 王鴻薇 當選。 1月9日： 國道2號甲線 大園交流道至省道 台15線 正式通車，未來路段規劃延伸至省道快速公路 台61線 。 1月15日： 中華民國副總統 賴清德 在 民主進步黨主席 的 同額競選 中勝出，成功當選新任主席 [1] 。 1月16日： 國道4號 （台中環線）豐原潭子段正式通車，全線配合國道一、三號及省道快速公路 台74線 串連台中都會區高快速公路環狀路網。 1月31日： 行政院院長 蘇貞昌 率 內閣成員 辭職，結束長達4年的院長工作 [2] 。 2023年即將到來。 從日本啟動最大的離岸風電場，到迪士尼和華納兄弟公司百歲生日，到尼泊爾的狗狗節日——以下是一些堅韌與智慧的典範。 1月 克羅埃西亞，1月1日：加入歐盟近10年的克羅埃西亞開始使用歐元，並成為申根免簽旅行區的一部分。 歐元區面臨的衰退前景並沒有讓這個巴爾幹國家卻步，它希望歐元有助於吸引遊客們前來領略亞德里亞海岸線的風光。... 🎧2023你必須關注的6件全球大事! 翁履中：臺灣在中美對抗最前線，要看清國際現實，不論好消息或壞消息，必須是真消息 台灣事實查核中心 2023年1月17日 上午2:18 2023年全球軍事危機升高，中、美、台關係成為國際矚目焦點。 真真假假的訊息如雨後春筍般出現、混淆視聽。 面對台海的緊張局勢，美國的態度至關重要，也往往在台灣內部引發熱烈討論。... 2023年全球軍事危機升高，中、美、台關係成為國際矚目焦點。 真真假假的訊息如雨後春筍般出現、混淆視聽。 面對台海的緊張局勢，美國的態度至關重要，也往往在台灣內部引發熱烈討論。 美國德州州立大學政治系副教授翁履中，同時也是德國大學全球拓展計畫的負責人。 他另一個身分是Podcast節目「Dennis 的全球政治筆記」主持人。 日前接受國立教育廣播電台節目 《新聞真假掰》 主持人黃兆徽專訪時表示，美方事實上想要幫助臺灣站得更穩；尤其目前中美關係緊繃，美國國會現在對臺灣的支持，從過去的溫和轉為積極，而美國評估臺灣目前自衛能力，還需要再加把勁。 談中美關係》對抗浪頭上 團結才是硬道理 經濟學人副總編談2023十趨勢：台灣是最大衝突點，不幸中有三大幸 《經濟學人》副總編輯、年度特刊《全球大趨勢》（The World Ahead）主編斯丹迪奇（Tom Standage），在2023天下經濟論壇（CWEF）揭曉今年最重要十大趨勢，從烏俄戰爭、台灣安危到驗收元宇宙。 以下是演講摘要： Sky 幫你讀文章 文章語音朗讀・ 12:00 圖片來源：謝佩穎攝 整理 天下編輯部 天下Web only 發布時間：2023-01-09 9432 瀏覽數 完整收錄，2023 天下經濟論壇（CWEF）冬季場 演講精華 過去三年的世界由疫情主導，從現在開始的未來，則與一場等不到終點的戰爭息息相關。 不過，全球動盪中，我們也看到三個不幸中的大幸。 趨勢1：烏俄戰爭取代疫情，成全球最關鍵事件'"
            ],
            "application/vnd.google.colaboratory.intrinsic+json": {
              "type": "string"
            }
          },
          "metadata": {},
          "execution_count": 3
        }
      ]
    },
    {
      "cell_type": "code",
      "source": [
        "from google.colab import drive\n",
        "import os\n",
        "\n",
        "drive.mount('/content/drive')\n",
        "os.chdir('/content/drive/MyDrive/Colab Notebooks/LangChain')\n",
        "\n",
        "with open('env_vars.txt', 'r') as file:\n",
        "  for line in file:\n",
        "    key, value = line.strip().split('=')\n",
        "    os.environ[key] = value"
      ],
      "metadata": {
        "colab": {
          "base_uri": "https://localhost:8080/"
        },
        "id": "9wBuaXkN3fti",
        "outputId": "2d077434-4f38-4bc6-d5d1-e1199aaaed7f"
      },
      "execution_count": 4,
      "outputs": [
        {
          "output_type": "stream",
          "name": "stdout",
          "text": [
            "Mounted at /content/drive\n"
          ]
        }
      ]
    },
    {
      "cell_type": "code",
      "source": [
        "from langchain.agents import load_tools\n",
        "from langchain.agents import initialize_agent\n",
        "from langchain.agents import AgentType\n",
        "from langchain.chat_models import ChatOpenAI\n",
        "\n",
        "import os\n",
        "\n",
        "llm = ChatOpenAI(temperature=0)\n",
        "tools = load_tools([\"ddg-search\"], llm=llm)\n",
        "agent = initialize_agent(tools, llm, agent=AgentType.ZERO_SHOT_REACT_DESCRIPTION, verbose=True)\n",
        "agent.run(\"2023 台灣有什麼大事\")"
      ],
      "metadata": {
        "colab": {
          "base_uri": "https://localhost:8080/",
          "height": 281
        },
        "id": "s_8r9xMPk3BM",
        "outputId": "27a8ca1c-cb1f-4d7c-dcea-38f56c6a814d"
      },
      "execution_count": 17,
      "outputs": [
        {
          "output_type": "stream",
          "name": "stdout",
          "text": [
            "\n",
            "\n",
            "\u001b[1m> Entering new AgentExecutor chain...\u001b[0m\n",
            "\u001b[32;1m\u001b[1;3mI should use the duckduckgo_search tool to find out what major events are happening in Taiwan in 2023.\n",
            "Action: duckduckgo_search\n",
            "Action Input: \"2023 Taiwan major events\"\u001b[0m\n",
            "Observation: \u001b[36;1m\u001b[1;3mTaiwan Strait: What to expect in 2023 William Yang in Taipei 12/28/2022 US-China strategic competition, a potential visit by the possible US House speaker, and increased military activity are... Taiwan's de facto ADIZ includes areas to the south and east of the median line, according to this updated map based on a briefing from Taiwan's Ministry of National Defence in April 2023 ... 11.08.2023 - 14.08.2023 Kaohsiung Wine & Spirits Festival 2023 Kaohsiung, Taiwan Kaohsiung Wine & Spirits Festival wine tasting event which display whiskey, spirits Food & Beverages Tasting 12.08.2023 - 13.08.2023 US-Taiwan relations in the year 2023 will evolve from these events and more. Military Relations. It is a certainty that, in 2023, the Ukraine War will descend into the greatest European bloodletting since World War II. Russia's barbarity and Ukraine's determination to resist will suck the oxygen from Europe's debates. The Taiwan International Hot Air Balloon Festival Yilan International Children's Folklore & Folkgame Festival Indigenous Harvest Festival August Zongyuan Festival (Ghost Festival) September Nanfang'ao Bonito Festival Mid-Autumn Festival October\u001b[0m\n",
            "Thought:\u001b[32;1m\u001b[1;3mI have found several major events happening in Taiwan in 2023, including the Taiwan International Hot Air Balloon Festival, the Yilan International Children's Folklore & Folkgame Festival, the Indigenous Harvest Festival, the Zongyuan Festival (Ghost Festival), the Nanfang'ao Bonito Festival, and the Mid-Autumn Festival. There are also mentions of US-China strategic competition, a potential visit by the possible US House speaker, increased military activity, and the Ukraine War. \n",
            "Final Answer: Some major events happening in Taiwan in 2023 include the Taiwan International Hot Air Balloon Festival, the Yilan International Children's Folklore & Folkgame Festival, the Indigenous Harvest Festival, the Zongyuan Festival (Ghost Festival), the Nanfang'ao Bonito Festival, and the Mid-Autumn Festival.\u001b[0m\n",
            "\n",
            "\u001b[1m> Finished chain.\u001b[0m\n"
          ]
        },
        {
          "output_type": "execute_result",
          "data": {
            "text/plain": [
              "\"Some major events happening in Taiwan in 2023 include the Taiwan International Hot Air Balloon Festival, the Yilan International Children's Folklore & Folkgame Festival, the Indigenous Harvest Festival, the Zongyuan Festival (Ghost Festival), the Nanfang'ao Bonito Festival, and the Mid-Autumn Festival.\""
            ],
            "application/vnd.google.colaboratory.intrinsic+json": {
              "type": "string"
            }
          },
          "metadata": {},
          "execution_count": 17
        }
      ]
    },
    {
      "cell_type": "code",
      "source": [
        "agent.agent.llm_chain.prompt.template"
      ],
      "metadata": {
        "colab": {
          "base_uri": "https://localhost:8080/",
          "height": 122
        },
        "id": "CpNxve-w3w9v",
        "outputId": "97a6552b-fc1c-4868-a04c-715979a3a356"
      },
      "execution_count": 18,
      "outputs": [
        {
          "output_type": "execute_result",
          "data": {
            "text/plain": [
              "'Answer the following questions as best you can. You have access to the following tools:\\n\\nduckduckgo_search: A wrapper around DuckDuckGo Search. Useful for when you need to answer questions about current events. Input should be a search query.\\n\\nUse the following format:\\n\\nQuestion: the input question you must answer\\nThought: you should always think about what to do\\nAction: the action to take, should be one of [duckduckgo_search]\\nAction Input: the input to the action\\nObservation: the result of the action\\n... (this Thought/Action/Action Input/Observation can repeat N times)\\nThought: I now know the final answer\\nFinal Answer: the final answer to the original input question\\n\\nBegin!\\n\\nQuestion: {input}\\nThought:{agent_scratchpad}'"
            ],
            "application/vnd.google.colaboratory.intrinsic+json": {
              "type": "string"
            }
          },
          "metadata": {},
          "execution_count": 18
        }
      ]
    },
    {
      "cell_type": "code",
      "source": [
        "agent.agent.llm_chain.prompt.template = agent.agent.llm_chain.prompt.template + ', please reply in the same language as the user, paying special attention to the difference between Traditional Chinese and Simplified Chinese.'"
      ],
      "metadata": {
        "id": "lQfrab_Beqj9"
      },
      "execution_count": 19,
      "outputs": []
    },
    {
      "cell_type": "code",
      "source": [
        "agent.agent.llm_chain.prompt.template"
      ],
      "metadata": {
        "colab": {
          "base_uri": "https://localhost:8080/",
          "height": 140
        },
        "id": "QlDP6qG9gPz1",
        "outputId": "178f6580-880a-415c-a727-07b78bf10b61"
      },
      "execution_count": 20,
      "outputs": [
        {
          "output_type": "execute_result",
          "data": {
            "text/plain": [
              "'Answer the following questions as best you can. You have access to the following tools:\\n\\nduckduckgo_search: A wrapper around DuckDuckGo Search. Useful for when you need to answer questions about current events. Input should be a search query.\\n\\nUse the following format:\\n\\nQuestion: the input question you must answer\\nThought: you should always think about what to do\\nAction: the action to take, should be one of [duckduckgo_search]\\nAction Input: the input to the action\\nObservation: the result of the action\\n... (this Thought/Action/Action Input/Observation can repeat N times)\\nThought: I now know the final answer\\nFinal Answer: the final answer to the original input question\\n\\nBegin!\\n\\nQuestion: {input}\\nThought:{agent_scratchpad}, please reply in the same language as the user, paying special attention to the difference between Traditional Chinese and Simplified Chinese.'"
            ],
            "application/vnd.google.colaboratory.intrinsic+json": {
              "type": "string"
            }
          },
          "metadata": {},
          "execution_count": 20
        }
      ]
    },
    {
      "cell_type": "code",
      "source": [
        "agent.run(\"2023/7/30 台灣有什麼大事\")"
      ],
      "metadata": {
        "colab": {
          "base_uri": "https://localhost:8080/",
          "height": 298
        },
        "id": "F4UDgeoIgZnK",
        "outputId": "67dc2dac-bb8a-4bfe-a1f7-dc0f13f9d0a8"
      },
      "execution_count": 23,
      "outputs": [
        {
          "output_type": "stream",
          "name": "stdout",
          "text": [
            "\n",
            "\n",
            "\u001b[1m> Entering new AgentExecutor chain...\u001b[0m\n",
            "\u001b[32;1m\u001b[1;3mThought: I should use the duckduckgo_search tool to find out what major events are happening in Taiwan on July 30, 2023.\n",
            "\n",
            "Action: duckduckgo_search\n",
            "Action Input: \"2023/7/30 台灣大事\"\u001b[0m\n",
            "Observation: \u001b[36;1m\u001b[1;3m序言 1 政府 切換 政府 子章節 1.1 國家正副元首 1.2 五院首長 1.3 成員變動 2 大事記 切換 大事記 子章節 2.1 1月 2.2 2月 2.3 3月 2.4 4月 2.5 5月 2.6 6月 2.7 7月 2.8 8月 2.9 9月 2.10 10月 2.11 11月 2.12 12月 3 災難與交通意外 切換 災難與交通意外 子章節 3.1 災害 3.2 事故 4 節日與主題 切換 節日與主題 子章節 4.1 1月 4.2 2月 4.3 3月 4.4 4月 4.5 5月 4.6 6月 4.7 7月 4.8 8月 4.9 9月 4.10 10月 中央社「一週大事」精選當週（每週日至週六）國內外新聞摘要，每週六晚間更新，協助讀者掌握國內外時事脈動。 政治 2023/07/30 一週大事》112年7月23日至29日 國內︰ 立法院臨時會廿六日通過「台美廿一世紀貿易倡議」首批協定；台灣與英國同日也宣布啟動「深化貿易夥伴關係（ETP）」。 美國總統拜登廿八日宣布，提供台灣三．四五億美元的國防物資與服務，以及軍事教育與... 政治 2023/07/23 一週大事》安倍晉三夫人安倍昭惠訪台 國內： 日本故前首相安倍晉三夫人安倍昭惠十七日訪台，十九日前往五指山弔唁前總統李登輝，並會晤總統蔡英文，盼盡其所能促進台日關係發展。 扯鈴教練魯紀賢涉嫌為中國吸收士官兵刺探軍情，五人於二十日被北檢聲押... 政治 2023/07/16 一週大事》巴拉圭總統當選人貝尼亞率團訪台 國內： 我國友邦巴拉圭總統當選人貝尼亞十一日率團訪台五天。 3月：央行10年來首度升息 4月：台灣本土新冠病毒確診數暴增 5月：台灣社會學習與病毒共存 6月：美國聯準會再度升息，28年來最大升息幅度 7月：量販店通路大戰 8月：美國眾議院議長裴洛西訪台 9月：特拉斯－英國史上任期最短的首相 10月：中國共產黨舉行第二十全國代表大會 11月：九合一地方大選 12月：台積電舉辦美國移機典禮、去台化爭論 2022年離世的重要人物（按辭世時間序） 回顧台灣10大新聞事件，「新冠疫情」仍是國人首要關注焦點；甫結束的「九合一大選」、「論文抄襲案」，以及引發全台譁然的重大社會和民生事件「柬埔寨打工詐騙」、「台南殺警奪槍案」與「303大停電」也備受矚目。 10大新聞人物則與國際局勢息息相關，由俄烏戰爭中成抗戰領袖的烏克蘭總統「澤倫斯基」居冠。...\u001b[0m\n",
            "Thought:\u001b[32;1m\u001b[1;3mThought: The search results are in Traditional Chinese, so I should reply in Traditional Chinese as well.\n",
            "\n",
            "Final Answer: 根據搜尋結果，2023年7月30日台灣的重大事件包括立法院通過「台美廿一世紀貿易倡議」首批協定，台灣與英國宣布啟動「深化貿易夥伴關係（ETP）」，以及美國總統拜登宣布提供台灣國防物資和軍事教育等。\u001b[0m\n",
            "\n",
            "\u001b[1m> Finished chain.\u001b[0m\n"
          ]
        },
        {
          "output_type": "execute_result",
          "data": {
            "text/plain": [
              "'根據搜尋結果，2023年7月30日台灣的重大事件包括立法院通過「台美廿一世紀貿易倡議」首批協定，台灣與英國宣布啟動「深化貿易夥伴關係（ETP）」，以及美國總統拜登宣布提供台灣國防物資和軍事教育等。'"
            ],
            "application/vnd.google.colaboratory.intrinsic+json": {
              "type": "string"
            }
          },
          "metadata": {},
          "execution_count": 23
        }
      ]
    },
    {
      "cell_type": "code",
      "source": [
        "agent.run(\"Nvidia 股價多少\")"
      ],
      "metadata": {
        "colab": {
          "base_uri": "https://localhost:8080/",
          "height": 420
        },
        "id": "hmTdGYCFgbii",
        "outputId": "a6621734-4314-4269-9d36-0b8bbe58ff8f"
      },
      "execution_count": 24,
      "outputs": [
        {
          "output_type": "stream",
          "name": "stdout",
          "text": [
            "\n",
            "\n",
            "\u001b[1m> Entering new AgentExecutor chain...\u001b[0m\n",
            "\u001b[32;1m\u001b[1;3mThought: The user is asking for the current stock price of Nvidia in Traditional Chinese. I should use the duckduckgo_search tool to find the answer.\n",
            "\n",
            "Action: duckduckgo_search\n",
            "Action Input: Nvidia 股價\u001b[0m\n",
            "Observation: \u001b[36;1m\u001b[1;3mNVIDIA Corporation即時行情 成交 423.01 開盤 421.60 最高 435.74 最低 418.35 一年內最高 480.88 買進 421.76 EPS (TTM) 1.91 PE Ratio (TTM) 221.47 昨收 425.54 漲跌幅 0.59% 漲跌 2.53 總量 29,512,301 一年內最低 108.13 賣出 421.98 總市值... 交易股價資料並非來自所有市場 ... China's internet giants order $5bn of Nvidia chips to power AI ambitions. Baidu, ByteDance, Tencent and Alibaba rush to acquire GPUs amid concern US will soon clamp down on their export. Insider Monkey. 20 Biggest Internet of Things Companies in the World. 英伟达公司 NASDAQ:NVDA NVIDIA Corp. 添加自选 在APP中查看 410.20 -13.68 (-3.23%) Aug 11 02:44PM EDT 普通版 极速版 分时 5日 年线 YTD 日K 周K 月K 年K 5分 15分 30分 60分 2023/08/11/五14:44 价 410.20 均 -- 量 0 幅 -3.23% 成交 VOL: 0.00 MA10: 78356.00 NVIDIA公司從事電腦繪圖處理器、晶片組、和相關多媒體軟體的設計和製造。. 透過以下部門運行：繪圖處理器 (GPU)、Tegra處理器和所有其他部門。. GPU部門由產品品牌組成，其目標是針對遊戲玩家的GeForce等專業市場；設計師的Quadro；適用於AI數據科學家和大數據 ... REUTERS/Mike Blake 然而，這種放緩應該很快就會結束。 根據彭博社的數據，華爾街預計NVIDIA的遊戲業務在第二季度將首次出現增長，這將有助於NVIDIA在連續三季的下降之後實現整體收入的增長。 儘管如此，NVIDIA的數據中心業務仍然表現出色，公司報告該季的收入增長率為14%。 （本文譯自Yahoo Finance）\u001b[0m\n",
            "Thought:\u001b[32;1m\u001b[1;3mThought: The search results are in Traditional Chinese, so I should reply in Traditional Chinese as well.\n",
            "\n",
            "Final Answer: NVIDIA Corporation即時行情 成交 423.01 開盤 421.60 最高 435.74 最低 418.35 一年內最高 480.88 買進 421.76 EPS (TTM) 1.91 PE Ratio (TTM) 221.47 昨收 425.54 漲跌幅 0.59% 漲跌 2.53 總量 29,512,301 一年內最低 108.13 賣出 421.98 總市值... 交易股價資料並非來自所有市場 ... China's internet giants order $5bn of Nvidia chips to power AI ambitions. Baidu, ByteDance, Tencent and Alibaba rush to acquire GPUs amid concern US will soon clamp down on their export. Insider Monkey. 20 Biggest Internet of Things Companies in the World. 英伟达公司 NASDAQ:NVDA NVIDIA Corp. 添加自选 在APP中查看 410.20 -13.68 (-3.23%) Aug 11 02:44PM EDT 普通版 极速版 分时 5日 年线 YTD 日K 周K 月K 年K 5分 15分 30分 60分 2023/08/11/五14:44 价 410.20 均 -- 量 0 幅 -3.23% 成交 VOL: 0.00 MA10: 78356.00 NVIDIA公司從事電腦繪圖處理器、晶片組、和相關多媒體軟體的設計和製造。. 透過以下部門運行：繪圖處理器 (GPU)、Tegra處理器和所有其他部門。. GPU部門由產品品牌組成，其目標是針對遊戲玩家的GeForce等專業市場；設計師的Quadro；適用於AI數據科學家和大數據 ... REUTERS/Mike Blake 然而，這種放緩應該很快就會結束。 根據彭博社的數據，華爾街預計NVIDIA的遊戲業務在第二季度將首次出現增長，這將有助於NVIDIA在連續三季的下降之後實現整體收入的增長。 儘管如此，NVIDIA的數據中心業務仍然表現出色，公司報告該季的收入增長率為14%。\u001b[0m\n",
            "\n",
            "\u001b[1m> Finished chain.\u001b[0m\n"
          ]
        },
        {
          "output_type": "execute_result",
          "data": {
            "text/plain": [
              "\"NVIDIA Corporation即時行情 成交 423.01 開盤 421.60 最高 435.74 最低 418.35 一年內最高 480.88 買進 421.76 EPS (TTM) 1.91 PE Ratio (TTM) 221.47 昨收 425.54 漲跌幅 0.59% 漲跌 2.53 總量 29,512,301 一年內最低 108.13 賣出 421.98 總市值... 交易股價資料並非來自所有市場 ... China's internet giants order $5bn of Nvidia chips to power AI ambitions. Baidu, ByteDance, Tencent and Alibaba rush to acquire GPUs amid concern US will soon clamp down on their export. Insider Monkey. 20 Biggest Internet of Things Companies in the World. 英伟达公司 NASDAQ:NVDA NVIDIA Corp. 添加自选 在APP中查看 410.20 -13.68 (-3.23%) Aug 11 02:44PM EDT 普通版 极速版 分时 5日 年线 YTD 日K 周K 月K 年K 5分 15分 30分 60分 2023/08/11/五14:44 价 410.20 均 -- 量 0 幅 -3.23% 成交 VOL: 0.00 MA10: 78356.00 NVIDIA公司從事電腦繪圖處理器、晶片組、和相關多媒體軟體的設計和製造。. 透過以下部門運行：繪圖處理器 (GPU)、Tegra處理器和所有其他部門。. GPU部門由產品品牌組成，其目標是針對遊戲玩家的GeForce等專業市場；設計師的Quadro；適用於AI數據科學家和大數據 ... REUTERS/Mike Blake 然而，這種放緩應該很快就會結束。 根據彭博社的數據，華爾街預計NVIDIA的遊戲業務在第二季度將首次出現增長，這將有助於NVIDIA在連續三季的下降之後實現整體收入的增長。 儘管如此，NVIDIA的數據中心業務仍然表現出色，公司報告該季的收入增長率為14%。\""
            ],
            "application/vnd.google.colaboratory.intrinsic+json": {
              "type": "string"
            }
          },
          "metadata": {},
          "execution_count": 24
        }
      ]
    },
    {
      "cell_type": "code",
      "source": [],
      "metadata": {
        "id": "EL51Iq0XhpT0"
      },
      "execution_count": null,
      "outputs": []
    }
  ]
}