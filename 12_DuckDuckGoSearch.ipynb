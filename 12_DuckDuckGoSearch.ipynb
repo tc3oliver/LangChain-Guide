{
  "nbformat": 4,
  "nbformat_minor": 0,
  "metadata": {
    "colab": {
      "provenance": [],
      "authorship_tag": "ABX9TyNkZmVDtLkiUzmUat1ezJoL",
      "include_colab_link": true
    },
    "kernelspec": {
      "name": "python3",
      "display_name": "Python 3"
    },
    "language_info": {
      "name": "python"
    }
  },
  "cells": [
    {
      "cell_type": "markdown",
      "metadata": {
        "id": "view-in-github",
        "colab_type": "text"
      },
      "source": [
        "<a href=\"https://colab.research.google.com/github/tc3oliver/LangChain-Guide/blob/dev/12_DuckDuckGoSearch.ipynb\" target=\"_parent\"><img src=\"https://colab.research.google.com/assets/colab-badge.svg\" alt=\"Open In Colab\"/></a>"
      ]
    },
    {
      "cell_type": "code",
      "execution_count": 5,
      "metadata": {
        "id": "lyGxZdZAkleD"
      },
      "outputs": [],
      "source": [
        "!pip install -q -U duckduckgo-search"
      ]
    },
    {
      "cell_type": "code",
      "source": [
        "!pip install langchain openai"
      ],
      "metadata": {
        "colab": {
          "base_uri": "https://localhost:8080/"
        },
        "id": "dRozhlmYlAtb",
        "outputId": "e8c88ea1-45ae-48b3-d69c-720c2aa0c1d1"
      },
      "execution_count": 6,
      "outputs": [
        {
          "output_type": "stream",
          "name": "stdout",
          "text": [
            "Requirement already satisfied: langchain in /usr/local/lib/python3.10/dist-packages (0.0.262)\n",
            "Requirement already satisfied: openai in /usr/local/lib/python3.10/dist-packages (0.27.8)\n",
            "Requirement already satisfied: PyYAML>=5.3 in /usr/local/lib/python3.10/dist-packages (from langchain) (6.0.1)\n",
            "Requirement already satisfied: SQLAlchemy<3,>=1.4 in /usr/local/lib/python3.10/dist-packages (from langchain) (2.0.19)\n",
            "Requirement already satisfied: aiohttp<4.0.0,>=3.8.3 in /usr/local/lib/python3.10/dist-packages (from langchain) (3.8.5)\n",
            "Requirement already satisfied: async-timeout<5.0.0,>=4.0.0 in /usr/local/lib/python3.10/dist-packages (from langchain) (4.0.2)\n",
            "Requirement already satisfied: dataclasses-json<0.6.0,>=0.5.7 in /usr/local/lib/python3.10/dist-packages (from langchain) (0.5.14)\n",
            "Requirement already satisfied: langsmith<0.1.0,>=0.0.11 in /usr/local/lib/python3.10/dist-packages (from langchain) (0.0.22)\n",
            "Requirement already satisfied: numexpr<3.0.0,>=2.8.4 in /usr/local/lib/python3.10/dist-packages (from langchain) (2.8.5)\n",
            "Requirement already satisfied: numpy<2,>=1 in /usr/local/lib/python3.10/dist-packages (from langchain) (1.23.5)\n",
            "Requirement already satisfied: openapi-schema-pydantic<2.0,>=1.2 in /usr/local/lib/python3.10/dist-packages (from langchain) (1.2.4)\n",
            "Requirement already satisfied: pydantic<2,>=1 in /usr/local/lib/python3.10/dist-packages (from langchain) (1.10.12)\n",
            "Requirement already satisfied: requests<3,>=2 in /usr/local/lib/python3.10/dist-packages (from langchain) (2.31.0)\n",
            "Requirement already satisfied: tenacity<9.0.0,>=8.1.0 in /usr/local/lib/python3.10/dist-packages (from langchain) (8.2.2)\n",
            "Requirement already satisfied: tqdm in /usr/local/lib/python3.10/dist-packages (from openai) (4.66.0)\n",
            "Requirement already satisfied: attrs>=17.3.0 in /usr/local/lib/python3.10/dist-packages (from aiohttp<4.0.0,>=3.8.3->langchain) (23.1.0)\n",
            "Requirement already satisfied: charset-normalizer<4.0,>=2.0 in /usr/local/lib/python3.10/dist-packages (from aiohttp<4.0.0,>=3.8.3->langchain) (3.2.0)\n",
            "Requirement already satisfied: multidict<7.0,>=4.5 in /usr/local/lib/python3.10/dist-packages (from aiohttp<4.0.0,>=3.8.3->langchain) (6.0.4)\n",
            "Requirement already satisfied: yarl<2.0,>=1.0 in /usr/local/lib/python3.10/dist-packages (from aiohttp<4.0.0,>=3.8.3->langchain) (1.9.2)\n",
            "Requirement already satisfied: frozenlist>=1.1.1 in /usr/local/lib/python3.10/dist-packages (from aiohttp<4.0.0,>=3.8.3->langchain) (1.4.0)\n",
            "Requirement already satisfied: aiosignal>=1.1.2 in /usr/local/lib/python3.10/dist-packages (from aiohttp<4.0.0,>=3.8.3->langchain) (1.3.1)\n",
            "Requirement already satisfied: marshmallow<4.0.0,>=3.18.0 in /usr/local/lib/python3.10/dist-packages (from dataclasses-json<0.6.0,>=0.5.7->langchain) (3.20.1)\n",
            "Requirement already satisfied: typing-inspect<1,>=0.4.0 in /usr/local/lib/python3.10/dist-packages (from dataclasses-json<0.6.0,>=0.5.7->langchain) (0.9.0)\n",
            "Requirement already satisfied: typing-extensions>=4.2.0 in /usr/local/lib/python3.10/dist-packages (from pydantic<2,>=1->langchain) (4.7.1)\n",
            "Requirement already satisfied: idna<4,>=2.5 in /usr/local/lib/python3.10/dist-packages (from requests<3,>=2->langchain) (3.4)\n",
            "Requirement already satisfied: urllib3<3,>=1.21.1 in /usr/local/lib/python3.10/dist-packages (from requests<3,>=2->langchain) (2.0.4)\n",
            "Requirement already satisfied: certifi>=2017.4.17 in /usr/local/lib/python3.10/dist-packages (from requests<3,>=2->langchain) (2023.7.22)\n",
            "Requirement already satisfied: greenlet!=0.4.17 in /usr/local/lib/python3.10/dist-packages (from SQLAlchemy<3,>=1.4->langchain) (2.0.2)\n",
            "Requirement already satisfied: packaging>=17.0 in /usr/local/lib/python3.10/dist-packages (from marshmallow<4.0.0,>=3.18.0->dataclasses-json<0.6.0,>=0.5.7->langchain) (23.1)\n",
            "Requirement already satisfied: mypy-extensions>=0.3.0 in /usr/local/lib/python3.10/dist-packages (from typing-inspect<1,>=0.4.0->dataclasses-json<0.6.0,>=0.5.7->langchain) (1.0.0)\n"
          ]
        }
      ]
    },
    {
      "cell_type": "code",
      "source": [
        "from langchain.tools import DuckDuckGoSearchRun\n",
        "\n",
        "search = DuckDuckGoSearchRun()\n",
        "search.run(\"2023 台灣有什麼大事\")"
      ],
      "metadata": {
        "colab": {
          "base_uri": "https://localhost:8080/",
          "height": 140
        },
        "id": "H7T3nTl0kvtN",
        "outputId": "24de139b-0749-4322-efaf-01bd23b9e1ef"
      },
      "execution_count": 7,
      "outputs": [
        {
          "output_type": "execute_result",
          "data": {
            "text/plain": [
              "'1 政府 切換 政府 子章節 1.1 國家正副元首 1.2 五院首長 1.3 成員變動 2 大事記 切換 大事記 子章節 2.1 1月 2.2 2月 2.3 3月 2.4 4月 2.5 5月 2.6 6月 2.7 7月 2.8 8月 2.9 9月 2.10 10月 2.11 11月 2.12 12月 3 災難與交通意外 切換 災難與交通意外 子章節 3.1 災害 3.2 事故 4 節日與主題 切換 節日與主題 子章節 4.1 1月 4.2 2月 4.3 3月 4.4 4月 4.5 5月 4.6 6月 4.7 7月 4.8 8月 4.9 9月 4.10 10月 大事記 2023年臺灣 ： 1月 - 2月 - 3月 - 4月 - 5月 - 6月 - 7月 - 8月 - 9月 - 10月 - 11月 - 12月 1月 1月8日： 2023年臺北市第三選舉區立法委員缺額補選 進行投票，由 中國國民黨 王鴻薇 當選。 1月9日： 國道2號甲線 大園交流道至省道 台15線 正式通車，未來路段規劃延伸至省道快速公路 台61線 。 1月15日： 中華民國副總統 賴清德 在 民主進步黨主席 的 同額競選 中勝出，成功當選新任主席 [1] 。 1月16日： 國道4號 （台中環線）豐原潭子段正式通車，全線配合國道一、三號及省道快速公路 台74線 串連台中都會區高快速公路環狀路網。 1月31日： 行政院院長 蘇貞昌 率 內閣成員 辭職，結束長達4年的院長工作 [2] 。 🎧2023你必須關注的6件全球大事! 翁履中：臺灣在中美對抗最前線，要看清國際現實，不論好消息或壞消息，必須是真消息 台灣事實查核中心 2023年1月17日 上午2:18 2023年全球軍事危機升高，中、美、台關係成為國際矚目焦點。 真真假假的訊息如雨後春筍般出現、混淆視聽。 面對台海的緊張局勢，美國的態度至關重要，也往往在台灣內部引發熱烈討論。... 2023年 是一個 平年 ，第一天從 星期日 開始。 目次 1 重要熱點 2 大事紀 2.1 1月 2.2 2月 2.3 3月 2.4 4月 2.5 5月 2.6 6月 2.7 7月 2.8 8月 3 預期事件 3.1 時間未定 4 逝世 5 諾貝爾獎 6 虛構作品 6.1 電影 6.2 電視劇 7 參考資料 重要熱點 [ 編輯] 2023年即將到來。 從日本啟動最大的離岸風電場，到迪士尼和華納兄弟公司百歲生日，到尼泊爾的狗狗節日——以下是一些堅韌與智慧的典範。 1月 克羅埃西亞，1月1日：加入歐盟近10年的克羅埃西亞開始使用歐元，並成為申根免簽旅行區的一部分。 歐元區面臨的衰退前景並沒有讓這個巴爾幹國家卻步，它希望歐元有助於吸引遊客們前來領略亞德里亞海岸線的風光。...'"
            ],
            "application/vnd.google.colaboratory.intrinsic+json": {
              "type": "string"
            }
          },
          "metadata": {},
          "execution_count": 7
        }
      ]
    },
    {
      "cell_type": "code",
      "source": [
        "from google.colab import drive\n",
        "import os\n",
        "\n",
        "drive.mount('/content/drive')\n",
        "os.chdir('/content/drive/MyDrive/Colab Notebooks/LangChain')\n",
        "\n",
        "with open('env_vars.txt', 'r') as file:\n",
        "  for line in file:\n",
        "    key, value = line.strip().split('=')\n",
        "    os.environ[key] = value"
      ],
      "metadata": {
        "colab": {
          "base_uri": "https://localhost:8080/"
        },
        "id": "9wBuaXkN3fti",
        "outputId": "14f6359d-a6c4-4e95-b1bd-149e646ef7cc"
      },
      "execution_count": 9,
      "outputs": [
        {
          "output_type": "stream",
          "name": "stdout",
          "text": [
            "Mounted at /content/drive\n"
          ]
        }
      ]
    },
    {
      "cell_type": "code",
      "source": [
        "from langchain.agents import load_tools\n",
        "from langchain.agents import initialize_agent\n",
        "from langchain.agents import AgentType\n",
        "from langchain.chat_models import ChatOpenAI\n",
        "\n",
        "import os\n",
        "\n",
        "llm = ChatOpenAI(temperature=0)\n",
        "tools = load_tools([\"ddg-search\"], llm=llm)\n",
        "agent = initialize_agent(tools, llm, agent=AgentType.ZERO_SHOT_REACT_DESCRIPTION, verbose=True)\n",
        "agent.run(\"2023 台灣有什麼大事\")"
      ],
      "metadata": {
        "colab": {
          "base_uri": "https://localhost:8080/",
          "height": 264
        },
        "id": "s_8r9xMPk3BM",
        "outputId": "5844da8e-211f-4bba-9ff1-2cc60c9294ff"
      },
      "execution_count": 10,
      "outputs": [
        {
          "output_type": "stream",
          "name": "stdout",
          "text": [
            "\n",
            "\n",
            "\u001b[1m> Entering new AgentExecutor chain...\u001b[0m\n",
            "\u001b[32;1m\u001b[1;3mI should use the duckduckgo_search tool to find out what major events are happening in Taiwan in 2023.\n",
            "Action: duckduckgo_search\n",
            "Action Input: \"2023 Taiwan major events\"\u001b[0m\n",
            "Observation: \u001b[36;1m\u001b[1;3mTaiwan Strait: What to expect in 2023 William Yang in Taipei 12/28/2022 US-China strategic competition, a potential visit by the possible US House speaker, and increased military activity are... US-Taiwan relations in the year 2023 will evolve from these events and more. Military Relations. It is a certainty that, in 2023, the Ukraine War will descend into the greatest European bloodletting since World War II. Russia's barbarity and Ukraine's determination to resist will suck the oxygen from Europe's debates. The following is the April 26, 2023 Congressional Research Service In Focus report, Taiwan: Political and Security Issues. From the report Taiwan, which officially calls itself the Republic of ... 11.08.2023 - 14.08.2023 Kaohsiung Wine & Spirits Festival 2023 Kaohsiung, Taiwan Kaohsiung Wine & Spirits Festival wine tasting event which display whiskey, spirits Food & Beverages Tasting 12.08.2023 - 13.08.2023 The Taiwan International Hot Air Balloon Festival Yilan International Children's Folklore & Folkgame Festival Indigenous Harvest Festival August Zongyuan Festival (Ghost Festival) September Nanfang'ao Bonito Festival Mid-Autumn Festival October\u001b[0m\n",
            "Thought:\u001b[32;1m\u001b[1;3mBased on the search results, there are several major events happening in Taiwan in 2023. These include the US-China strategic competition, a potential visit by the possible US House speaker, increased military activity, the Kaohsiung Wine & Spirits Festival, the Taiwan International Hot Air Balloon Festival, the Yilan International Children's Folklore & Folkgame Festival, the Indigenous Harvest Festival, the Zongyuan Festival (Ghost Festival), the Nanfang'ao Bonito Festival, and the Mid-Autumn Festival. \n",
            "Final Answer: Some major events happening in Taiwan in 2023 include the US-China strategic competition, increased military activity, and various cultural festivals such as the Kaohsiung Wine & Spirits Festival and the Taiwan International Hot Air Balloon Festival.\u001b[0m\n",
            "\n",
            "\u001b[1m> Finished chain.\u001b[0m\n"
          ]
        },
        {
          "output_type": "execute_result",
          "data": {
            "text/plain": [
              "'Some major events happening in Taiwan in 2023 include the US-China strategic competition, increased military activity, and various cultural festivals such as the Kaohsiung Wine & Spirits Festival and the Taiwan International Hot Air Balloon Festival.'"
            ],
            "application/vnd.google.colaboratory.intrinsic+json": {
              "type": "string"
            }
          },
          "metadata": {},
          "execution_count": 10
        }
      ]
    },
    {
      "cell_type": "code",
      "source": [],
      "metadata": {
        "id": "CpNxve-w3w9v"
      },
      "execution_count": null,
      "outputs": []
    }
  ]
}